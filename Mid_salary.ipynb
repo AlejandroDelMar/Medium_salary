{
 "cells": [
  {
   "cell_type": "markdown",
   "id": "551d1ee3",
   "metadata": {},
   "source": [
    "## Задача предсказания среднего заработка\n",
    "\n",
    "https://archive.ics.uci.edu/ml/datasets/Adult"
   ]
  },
  {
   "cell_type": "code",
   "execution_count": 1,
   "id": "6b074795",
   "metadata": {},
   "outputs": [],
   "source": [
    "import numpy as np\n",
    "import pandas as pd\n",
    "import matplotlib.pyplot as plt\n",
    "import seaborn as sns"
   ]
  },
  {
   "cell_type": "code",
   "execution_count": 2,
   "id": "67fd2381",
   "metadata": {
    "scrolled": true
   },
   "outputs": [
    {
     "data": {
      "text/html": [
       "<div>\n",
       "<style scoped>\n",
       "    .dataframe tbody tr th:only-of-type {\n",
       "        vertical-align: middle;\n",
       "    }\n",
       "\n",
       "    .dataframe tbody tr th {\n",
       "        vertical-align: top;\n",
       "    }\n",
       "\n",
       "    .dataframe thead th {\n",
       "        text-align: right;\n",
       "    }\n",
       "</style>\n",
       "<table border=\"1\" class=\"dataframe\">\n",
       "  <thead>\n",
       "    <tr style=\"text-align: right;\">\n",
       "      <th></th>\n",
       "      <th>age</th>\n",
       "      <th>workclass</th>\n",
       "      <th>fnlwgt</th>\n",
       "      <th>education</th>\n",
       "      <th>education-num</th>\n",
       "      <th>marital-status</th>\n",
       "      <th>occupation</th>\n",
       "      <th>relationship</th>\n",
       "      <th>race</th>\n",
       "      <th>sex</th>\n",
       "      <th>capital-gain</th>\n",
       "      <th>capital-loss</th>\n",
       "      <th>hours-per-week</th>\n",
       "      <th>&gt;50K,&lt;=50K</th>\n",
       "    </tr>\n",
       "  </thead>\n",
       "  <tbody>\n",
       "    <tr>\n",
       "      <th>0</th>\n",
       "      <td>34</td>\n",
       "      <td>Local-gov</td>\n",
       "      <td>284843</td>\n",
       "      <td>HS-grad</td>\n",
       "      <td>9</td>\n",
       "      <td>Never-married</td>\n",
       "      <td>Farming-fishing</td>\n",
       "      <td>Not-in-family</td>\n",
       "      <td>Black</td>\n",
       "      <td>Male</td>\n",
       "      <td>594</td>\n",
       "      <td>0</td>\n",
       "      <td>60</td>\n",
       "      <td>&lt;=50K</td>\n",
       "    </tr>\n",
       "    <tr>\n",
       "      <th>1</th>\n",
       "      <td>40</td>\n",
       "      <td>Private</td>\n",
       "      <td>190290</td>\n",
       "      <td>Some-college</td>\n",
       "      <td>10</td>\n",
       "      <td>Divorced</td>\n",
       "      <td>Sales</td>\n",
       "      <td>Not-in-family</td>\n",
       "      <td>White</td>\n",
       "      <td>Male</td>\n",
       "      <td>0</td>\n",
       "      <td>0</td>\n",
       "      <td>40</td>\n",
       "      <td>&lt;=50K</td>\n",
       "    </tr>\n",
       "    <tr>\n",
       "      <th>2</th>\n",
       "      <td>36</td>\n",
       "      <td>Local-gov</td>\n",
       "      <td>177858</td>\n",
       "      <td>Bachelors</td>\n",
       "      <td>13</td>\n",
       "      <td>Married-civ-spouse</td>\n",
       "      <td>Prof-specialty</td>\n",
       "      <td>Own-child</td>\n",
       "      <td>White</td>\n",
       "      <td>Male</td>\n",
       "      <td>0</td>\n",
       "      <td>0</td>\n",
       "      <td>40</td>\n",
       "      <td>&lt;=50K</td>\n",
       "    </tr>\n",
       "    <tr>\n",
       "      <th>3</th>\n",
       "      <td>22</td>\n",
       "      <td>Private</td>\n",
       "      <td>184756</td>\n",
       "      <td>Some-college</td>\n",
       "      <td>10</td>\n",
       "      <td>Never-married</td>\n",
       "      <td>Sales</td>\n",
       "      <td>Own-child</td>\n",
       "      <td>White</td>\n",
       "      <td>Female</td>\n",
       "      <td>0</td>\n",
       "      <td>0</td>\n",
       "      <td>30</td>\n",
       "      <td>&lt;=50K</td>\n",
       "    </tr>\n",
       "    <tr>\n",
       "      <th>4</th>\n",
       "      <td>47</td>\n",
       "      <td>Private</td>\n",
       "      <td>149700</td>\n",
       "      <td>Bachelors</td>\n",
       "      <td>13</td>\n",
       "      <td>Married-civ-spouse</td>\n",
       "      <td>Tech-support</td>\n",
       "      <td>Husband</td>\n",
       "      <td>White</td>\n",
       "      <td>Male</td>\n",
       "      <td>15024</td>\n",
       "      <td>0</td>\n",
       "      <td>40</td>\n",
       "      <td>&gt;50K</td>\n",
       "    </tr>\n",
       "  </tbody>\n",
       "</table>\n",
       "</div>"
      ],
      "text/plain": [
       "   age  workclass  fnlwgt     education  education-num      marital-status  \\\n",
       "0   34  Local-gov  284843       HS-grad              9       Never-married   \n",
       "1   40    Private  190290  Some-college             10            Divorced   \n",
       "2   36  Local-gov  177858     Bachelors             13  Married-civ-spouse   \n",
       "3   22    Private  184756  Some-college             10       Never-married   \n",
       "4   47    Private  149700     Bachelors             13  Married-civ-spouse   \n",
       "\n",
       "        occupation   relationship   race     sex  capital-gain  capital-loss  \\\n",
       "0  Farming-fishing  Not-in-family  Black    Male           594             0   \n",
       "1            Sales  Not-in-family  White    Male             0             0   \n",
       "2   Prof-specialty      Own-child  White    Male             0             0   \n",
       "3            Sales      Own-child  White  Female             0             0   \n",
       "4     Tech-support        Husband  White    Male         15024             0   \n",
       "\n",
       "   hours-per-week >50K,<=50K  \n",
       "0              60      <=50K  \n",
       "1              40      <=50K  \n",
       "2              40      <=50K  \n",
       "3              30      <=50K  \n",
       "4              40       >50K  "
      ]
     },
     "execution_count": 2,
     "metadata": {},
     "output_type": "execute_result"
    }
   ],
   "source": [
    "data_adult = pd.read_csv('./data.adult.csv')\n",
    "data_adult.head()"
   ]
  },
  {
   "cell_type": "code",
   "execution_count": 3,
   "id": "52eae735",
   "metadata": {},
   "outputs": [
    {
     "data": {
      "text/plain": [
       "<=50K    12244\n",
       ">50K      4036\n",
       "Name: >50K,<=50K, dtype: int64"
      ]
     },
     "execution_count": 3,
     "metadata": {},
     "output_type": "execute_result"
    }
   ],
   "source": [
    "data_adult['>50K,<=50K'].value_counts()"
   ]
  },
  {
   "cell_type": "code",
   "execution_count": 4,
   "id": "2512f7f3",
   "metadata": {},
   "outputs": [],
   "source": [
    "assert data_adult.shape[0] == 16280\n",
    "assert data_adult.shape[1] == 14"
   ]
  },
  {
   "cell_type": "code",
   "execution_count": 6,
   "id": "c0d69cba",
   "metadata": {},
   "outputs": [
    {
     "data": {
      "text/html": [
       "<div>\n",
       "<style scoped>\n",
       "    .dataframe tbody tr th:only-of-type {\n",
       "        vertical-align: middle;\n",
       "    }\n",
       "\n",
       "    .dataframe tbody tr th {\n",
       "        vertical-align: top;\n",
       "    }\n",
       "\n",
       "    .dataframe thead th {\n",
       "        text-align: right;\n",
       "    }\n",
       "</style>\n",
       "<table border=\"1\" class=\"dataframe\">\n",
       "  <thead>\n",
       "    <tr style=\"text-align: right;\">\n",
       "      <th></th>\n",
       "      <th>age</th>\n",
       "      <th>fnlwgt</th>\n",
       "      <th>education-num</th>\n",
       "      <th>capital-gain</th>\n",
       "      <th>capital-loss</th>\n",
       "      <th>hours-per-week</th>\n",
       "    </tr>\n",
       "  </thead>\n",
       "  <tbody>\n",
       "    <tr>\n",
       "      <th>count</th>\n",
       "      <td>16280.000000</td>\n",
       "      <td>1.628000e+04</td>\n",
       "      <td>16280.000000</td>\n",
       "      <td>16280.000000</td>\n",
       "      <td>16280.000000</td>\n",
       "      <td>16280.000000</td>\n",
       "    </tr>\n",
       "    <tr>\n",
       "      <th>mean</th>\n",
       "      <td>38.635074</td>\n",
       "      <td>1.894594e+05</td>\n",
       "      <td>10.098219</td>\n",
       "      <td>1020.417752</td>\n",
       "      <td>86.696314</td>\n",
       "      <td>40.403686</td>\n",
       "    </tr>\n",
       "    <tr>\n",
       "      <th>std</th>\n",
       "      <td>13.635301</td>\n",
       "      <td>1.066644e+05</td>\n",
       "      <td>2.567690</td>\n",
       "      <td>6862.041550</td>\n",
       "      <td>402.308715</td>\n",
       "      <td>12.341191</td>\n",
       "    </tr>\n",
       "    <tr>\n",
       "      <th>min</th>\n",
       "      <td>17.000000</td>\n",
       "      <td>1.930200e+04</td>\n",
       "      <td>1.000000</td>\n",
       "      <td>0.000000</td>\n",
       "      <td>0.000000</td>\n",
       "      <td>1.000000</td>\n",
       "    </tr>\n",
       "    <tr>\n",
       "      <th>25%</th>\n",
       "      <td>28.000000</td>\n",
       "      <td>1.170068e+05</td>\n",
       "      <td>9.000000</td>\n",
       "      <td>0.000000</td>\n",
       "      <td>0.000000</td>\n",
       "      <td>40.000000</td>\n",
       "    </tr>\n",
       "    <tr>\n",
       "      <th>50%</th>\n",
       "      <td>37.000000</td>\n",
       "      <td>1.781340e+05</td>\n",
       "      <td>10.000000</td>\n",
       "      <td>0.000000</td>\n",
       "      <td>0.000000</td>\n",
       "      <td>40.000000</td>\n",
       "    </tr>\n",
       "    <tr>\n",
       "      <th>75%</th>\n",
       "      <td>48.000000</td>\n",
       "      <td>2.371630e+05</td>\n",
       "      <td>12.000000</td>\n",
       "      <td>0.000000</td>\n",
       "      <td>0.000000</td>\n",
       "      <td>45.000000</td>\n",
       "    </tr>\n",
       "    <tr>\n",
       "      <th>max</th>\n",
       "      <td>90.000000</td>\n",
       "      <td>1.484705e+06</td>\n",
       "      <td>16.000000</td>\n",
       "      <td>99999.000000</td>\n",
       "      <td>4356.000000</td>\n",
       "      <td>99.000000</td>\n",
       "    </tr>\n",
       "  </tbody>\n",
       "</table>\n",
       "</div>"
      ],
      "text/plain": [
       "                age        fnlwgt  education-num  capital-gain  capital-loss  \\\n",
       "count  16280.000000  1.628000e+04   16280.000000  16280.000000  16280.000000   \n",
       "mean      38.635074  1.894594e+05      10.098219   1020.417752     86.696314   \n",
       "std       13.635301  1.066644e+05       2.567690   6862.041550    402.308715   \n",
       "min       17.000000  1.930200e+04       1.000000      0.000000      0.000000   \n",
       "25%       28.000000  1.170068e+05       9.000000      0.000000      0.000000   \n",
       "50%       37.000000  1.781340e+05      10.000000      0.000000      0.000000   \n",
       "75%       48.000000  2.371630e+05      12.000000      0.000000      0.000000   \n",
       "max       90.000000  1.484705e+06      16.000000  99999.000000   4356.000000   \n",
       "\n",
       "       hours-per-week  \n",
       "count    16280.000000  \n",
       "mean        40.403686  \n",
       "std         12.341191  \n",
       "min          1.000000  \n",
       "25%         40.000000  \n",
       "50%         40.000000  \n",
       "75%         45.000000  \n",
       "max         99.000000  "
      ]
     },
     "execution_count": 6,
     "metadata": {},
     "output_type": "execute_result"
    }
   ],
   "source": [
    "data_adult.describe()"
   ]
  },
  {
   "cell_type": "markdown",
   "id": "faacbaab",
   "metadata": {},
   "source": [
    "Средний возраст составляет около 38.5 лет. Признак fnlwgt понимается как некая оценка человека по его демографическим характеристикам (пол, раса, возраст). Люди с аналогичными демографическими характеристиками должны иметь одинаковый вес."
   ]
  },
  {
   "cell_type": "markdown",
   "id": "6eca5005",
   "metadata": {},
   "source": [
    "Интересно, что значения 75-перцентиля признаков 'прирост капитала' и 'потери капитала' равны 0"
   ]
  },
  {
   "cell_type": "code",
   "execution_count": 12,
   "id": "81c0d8f9",
   "metadata": {},
   "outputs": [
    {
     "data": {
      "text/html": [
       "<div>\n",
       "<style scoped>\n",
       "    .dataframe tbody tr th:only-of-type {\n",
       "        vertical-align: middle;\n",
       "    }\n",
       "\n",
       "    .dataframe tbody tr th {\n",
       "        vertical-align: top;\n",
       "    }\n",
       "\n",
       "    .dataframe thead th {\n",
       "        text-align: right;\n",
       "    }\n",
       "</style>\n",
       "<table border=\"1\" class=\"dataframe\">\n",
       "  <thead>\n",
       "    <tr style=\"text-align: right;\">\n",
       "      <th></th>\n",
       "      <th>age</th>\n",
       "      <th>fnlwgt</th>\n",
       "      <th>education-num</th>\n",
       "      <th>capital-gain</th>\n",
       "      <th>capital-loss</th>\n",
       "      <th>hours-per-week</th>\n",
       "    </tr>\n",
       "  </thead>\n",
       "  <tbody>\n",
       "    <tr>\n",
       "      <th>count</th>\n",
       "      <td>16280.000000</td>\n",
       "      <td>1.628000e+04</td>\n",
       "      <td>16280.000000</td>\n",
       "      <td>16280.000000</td>\n",
       "      <td>16280.000000</td>\n",
       "      <td>16280.000000</td>\n",
       "    </tr>\n",
       "    <tr>\n",
       "      <th>mean</th>\n",
       "      <td>38.635074</td>\n",
       "      <td>1.894594e+05</td>\n",
       "      <td>10.098219</td>\n",
       "      <td>1020.417752</td>\n",
       "      <td>86.696314</td>\n",
       "      <td>40.403686</td>\n",
       "    </tr>\n",
       "    <tr>\n",
       "      <th>std</th>\n",
       "      <td>13.635301</td>\n",
       "      <td>1.066644e+05</td>\n",
       "      <td>2.567690</td>\n",
       "      <td>6862.041550</td>\n",
       "      <td>402.308715</td>\n",
       "      <td>12.341191</td>\n",
       "    </tr>\n",
       "    <tr>\n",
       "      <th>min</th>\n",
       "      <td>17.000000</td>\n",
       "      <td>1.930200e+04</td>\n",
       "      <td>1.000000</td>\n",
       "      <td>0.000000</td>\n",
       "      <td>0.000000</td>\n",
       "      <td>1.000000</td>\n",
       "    </tr>\n",
       "    <tr>\n",
       "      <th>50%</th>\n",
       "      <td>37.000000</td>\n",
       "      <td>1.781340e+05</td>\n",
       "      <td>10.000000</td>\n",
       "      <td>0.000000</td>\n",
       "      <td>0.000000</td>\n",
       "      <td>40.000000</td>\n",
       "    </tr>\n",
       "    <tr>\n",
       "      <th>90%</th>\n",
       "      <td>58.000000</td>\n",
       "      <td>3.291440e+05</td>\n",
       "      <td>13.000000</td>\n",
       "      <td>0.000000</td>\n",
       "      <td>0.000000</td>\n",
       "      <td>55.000000</td>\n",
       "    </tr>\n",
       "    <tr>\n",
       "      <th>92%</th>\n",
       "      <td>60.000000</td>\n",
       "      <td>3.459996e+05</td>\n",
       "      <td>14.000000</td>\n",
       "      <td>2174.000000</td>\n",
       "      <td>0.000000</td>\n",
       "      <td>60.000000</td>\n",
       "    </tr>\n",
       "    <tr>\n",
       "      <th>93%</th>\n",
       "      <td>61.000000</td>\n",
       "      <td>3.554722e+05</td>\n",
       "      <td>14.000000</td>\n",
       "      <td>3103.000000</td>\n",
       "      <td>0.000000</td>\n",
       "      <td>60.000000</td>\n",
       "    </tr>\n",
       "    <tr>\n",
       "      <th>95%</th>\n",
       "      <td>63.000000</td>\n",
       "      <td>3.823680e+05</td>\n",
       "      <td>14.000000</td>\n",
       "      <td>5013.000000</td>\n",
       "      <td>0.000000</td>\n",
       "      <td>60.000000</td>\n",
       "    </tr>\n",
       "    <tr>\n",
       "      <th>96%</th>\n",
       "      <td>65.000000</td>\n",
       "      <td>4.006278e+05</td>\n",
       "      <td>14.000000</td>\n",
       "      <td>7298.000000</td>\n",
       "      <td>1579.000000</td>\n",
       "      <td>60.000000</td>\n",
       "    </tr>\n",
       "    <tr>\n",
       "      <th>97%</th>\n",
       "      <td>67.000000</td>\n",
       "      <td>4.176680e+05</td>\n",
       "      <td>15.000000</td>\n",
       "      <td>7688.000000</td>\n",
       "      <td>1848.000000</td>\n",
       "      <td>65.000000</td>\n",
       "    </tr>\n",
       "    <tr>\n",
       "      <th>99%</th>\n",
       "      <td>74.000000</td>\n",
       "      <td>5.095271e+05</td>\n",
       "      <td>16.000000</td>\n",
       "      <td>15024.000000</td>\n",
       "      <td>1984.410000</td>\n",
       "      <td>80.000000</td>\n",
       "    </tr>\n",
       "    <tr>\n",
       "      <th>max</th>\n",
       "      <td>90.000000</td>\n",
       "      <td>1.484705e+06</td>\n",
       "      <td>16.000000</td>\n",
       "      <td>99999.000000</td>\n",
       "      <td>4356.000000</td>\n",
       "      <td>99.000000</td>\n",
       "    </tr>\n",
       "  </tbody>\n",
       "</table>\n",
       "</div>"
      ],
      "text/plain": [
       "                age        fnlwgt  education-num  capital-gain  capital-loss  \\\n",
       "count  16280.000000  1.628000e+04   16280.000000  16280.000000  16280.000000   \n",
       "mean      38.635074  1.894594e+05      10.098219   1020.417752     86.696314   \n",
       "std       13.635301  1.066644e+05       2.567690   6862.041550    402.308715   \n",
       "min       17.000000  1.930200e+04       1.000000      0.000000      0.000000   \n",
       "50%       37.000000  1.781340e+05      10.000000      0.000000      0.000000   \n",
       "90%       58.000000  3.291440e+05      13.000000      0.000000      0.000000   \n",
       "92%       60.000000  3.459996e+05      14.000000   2174.000000      0.000000   \n",
       "93%       61.000000  3.554722e+05      14.000000   3103.000000      0.000000   \n",
       "95%       63.000000  3.823680e+05      14.000000   5013.000000      0.000000   \n",
       "96%       65.000000  4.006278e+05      14.000000   7298.000000   1579.000000   \n",
       "97%       67.000000  4.176680e+05      15.000000   7688.000000   1848.000000   \n",
       "99%       74.000000  5.095271e+05      16.000000  15024.000000   1984.410000   \n",
       "max       90.000000  1.484705e+06      16.000000  99999.000000   4356.000000   \n",
       "\n",
       "       hours-per-week  \n",
       "count    16280.000000  \n",
       "mean        40.403686  \n",
       "std         12.341191  \n",
       "min          1.000000  \n",
       "50%         40.000000  \n",
       "90%         55.000000  \n",
       "92%         60.000000  \n",
       "93%         60.000000  \n",
       "95%         60.000000  \n",
       "96%         60.000000  \n",
       "97%         65.000000  \n",
       "99%         80.000000  \n",
       "max         99.000000  "
      ]
     },
     "execution_count": 12,
     "metadata": {},
     "output_type": "execute_result"
    }
   ],
   "source": [
    "data_adult.describe(percentiles=[0.9 , 0.92, 0.93, 0.95, 0.96, 0.97, 0.99])"
   ]
  },
  {
   "cell_type": "markdown",
   "id": "a2a02b22",
   "metadata": {},
   "source": [
    "Лишь для перцентилей свыше 90 'прирост капитала' и 'потери капитала' начинают отличаться от 0."
   ]
  },
  {
   "cell_type": "code",
   "execution_count": 7,
   "id": "fae1d792",
   "metadata": {},
   "outputs": [
    {
     "data": {
      "text/plain": [
       "Male      10919\n",
       "Female     5361\n",
       "Name: sex, dtype: int64"
      ]
     },
     "execution_count": 7,
     "metadata": {},
     "output_type": "execute_result"
    }
   ],
   "source": [
    "data_adult['sex'].value_counts()"
   ]
  },
  {
   "cell_type": "markdown",
   "id": "65f911d2",
   "metadata": {},
   "source": [
    "Мужчин в датасете в 2 раза больше, чем женщин"
   ]
  },
  {
   "cell_type": "markdown",
   "id": "06f98aaf",
   "metadata": {},
   "source": [
    "Посмотрим на состав датасета по классам"
   ]
  },
  {
   "cell_type": "code",
   "execution_count": 22,
   "id": "6f71af58",
   "metadata": {},
   "outputs": [
    {
     "data": {
      "text/plain": [
       "Private             11282\n",
       "Self-emp-not-inc     1324\n",
       "Local-gov            1067\n",
       "?                     929\n",
       "State-gov             645\n",
       "Self-emp-inc          561\n",
       "Federal-gov           461\n",
       "Without-pay             7\n",
       "Never-worked            4\n",
       "Name: workclass, dtype: int64"
      ]
     },
     "execution_count": 22,
     "metadata": {},
     "output_type": "execute_result"
    }
   ],
   "source": [
    "data_adult['workclass'].value_counts()"
   ]
  },
  {
   "cell_type": "code",
   "execution_count": 25,
   "id": "756cfb81",
   "metadata": {},
   "outputs": [
    {
     "data": {
      "text/plain": [
       "<BarContainer object of 9 artists>"
      ]
     },
     "execution_count": 25,
     "metadata": {},
     "output_type": "execute_result"
    },
    {
     "data": {
      "image/png": "[encoded data removed]",
      "text/plain": [
       "<Figure size 1080x360 with 1 Axes>"
      ]
     },
     "metadata": {
      "needs_background": "light"
     },
     "output_type": "display_data"
    }
   ],
   "source": [
    "work_dict = dict(data_adult['workclass'].value_counts())\n",
    "names = list(work_dict.keys())\n",
    "values = list(work_dict.values())\n",
    "fig, axs = plt.subplots(1, 1, figsize=(15, 5), sharey=True)\n",
    "axs.bar(names, values)"
   ]
  },
  {
   "cell_type": "code",
   "execution_count": 23,
   "id": "513cf613",
   "metadata": {},
   "outputs": [
    {
     "data": {
      "text/plain": [
       "HS-grad         5214\n",
       "Some-college    3649\n",
       "Bachelors       2672\n",
       "Masters          880\n",
       "Assoc-voc        727\n",
       "11th             588\n",
       "Assoc-acdm       534\n",
       "10th             460\n",
       "7th-8th          328\n",
       "Prof-school      300\n",
       "9th              261\n",
       "12th             207\n",
       "Doctorate        202\n",
       "5th-6th          154\n",
       "1st-4th           75\n",
       "Preschool         29\n",
       "Name: education, dtype: int64"
      ]
     },
     "execution_count": 23,
     "metadata": {},
     "output_type": "execute_result"
    }
   ],
   "source": [
    "data_adult['education'].value_counts()"
   ]
  },
  {
   "cell_type": "code",
   "execution_count": 24,
   "id": "8f43126b",
   "metadata": {},
   "outputs": [
    {
     "data": {
      "text/plain": [
       "Prof-specialty       2095\n",
       "Craft-repair         2057\n",
       "Exec-managerial      2017\n",
       "Adm-clerical         1844\n",
       "Sales                1840\n",
       "Other-service        1617\n",
       "Machine-op-inspct    1023\n",
       "?                     933\n",
       "Transport-moving      799\n",
       "Handlers-cleaners     674\n",
       "Farming-fishing       481\n",
       "Tech-support          464\n",
       "Protective-serv       343\n",
       "Priv-house-serv        90\n",
       "Armed-Forces            3\n",
       "Name: occupation, dtype: int64"
      ]
     },
     "execution_count": 24,
     "metadata": {},
     "output_type": "execute_result"
    }
   ],
   "source": [
    "data_adult['occupation'].value_counts()"
   ]
  },
  {
   "cell_type": "code",
   "execution_count": 28,
   "id": "cbcd506a",
   "metadata": {},
   "outputs": [
    {
     "data": {
      "text/plain": [
       "White                 13912\n",
       "Black                  1557\n",
       "Asian-Pac-Islander      527\n",
       "Amer-Indian-Eskimo      158\n",
       "Other                   126\n",
       "Name: race, dtype: int64"
      ]
     },
     "execution_count": 28,
     "metadata": {},
     "output_type": "execute_result"
    }
   ],
   "source": [
    "data_adult['race'].value_counts()"
   ]
  },
  {
   "cell_type": "markdown",
   "id": "0577e0fb",
   "metadata": {},
   "source": [
    "Видим, что имеется дисбаланс данных по расе(преобладают белые), по классу работы(преобладает класс 'private') и не такой большой, но все же дисбаланс по образованию (в пользу high school)."
   ]
  },
  {
   "cell_type": "code",
   "execution_count": 3,
   "id": "dd5b4e32",
   "metadata": {},
   "outputs": [],
   "source": [
    "data_adult_2 = data_adult.replace('?', np.nan)\n",
    "data_adult_3 = data_adult_2.dropna()"
   ]
  },
  {
   "cell_type": "code",
   "execution_count": 4,
   "id": "77ef9091",
   "metadata": {},
   "outputs": [],
   "source": [
    "data_adult_4 = data_adult_3.replace({'<=50K': -1, '>50K': 1})"
   ]
  },
  {
   "cell_type": "code",
   "execution_count": 5,
   "id": "8cb7e720",
   "metadata": {},
   "outputs": [],
   "source": [
    "target = data_adult_4['>50K,<=50K']"
   ]
  },
  {
   "cell_type": "code",
   "execution_count": 6,
   "id": "c62ebed1",
   "metadata": {},
   "outputs": [
    {
     "name": "stdout",
     "output_type": "stream",
     "text": [
      "<class 'pandas.core.frame.DataFrame'>\n",
      "Int64Index: 15347 entries, 0 to 16279\n",
      "Data columns (total 13 columns):\n",
      " #   Column          Non-Null Count  Dtype \n",
      "---  ------          --------------  ----- \n",
      " 0   age             15347 non-null  int64 \n",
      " 1   workclass       15347 non-null  object\n",
      " 2   fnlwgt          15347 non-null  int64 \n",
      " 3   education       15347 non-null  object\n",
      " 4   education-num   15347 non-null  int64 \n",
      " 5   marital-status  15347 non-null  object\n",
      " 6   occupation      15347 non-null  object\n",
      " 7   relationship    15347 non-null  object\n",
      " 8   race            15347 non-null  object\n",
      " 9   sex             15347 non-null  object\n",
      " 10  capital-gain    15347 non-null  int64 \n",
      " 11  capital-loss    15347 non-null  int64 \n",
      " 12  hours-per-week  15347 non-null  int64 \n",
      "dtypes: int64(6), object(7)\n",
      "memory usage: 1.6+ MB\n"
     ]
    }
   ],
   "source": [
    "data_adult_5 = data_adult_4.drop(columns = ['>50K,<=50K'])\n",
    "data_adult_5.info()"
   ]
  },
  {
   "cell_type": "code",
   "execution_count": 7,
   "id": "a159a460",
   "metadata": {},
   "outputs": [],
   "source": [
    "data_adult_numerical_features = data_adult_5.select_dtypes(exclude = 'object')"
   ]
  },
  {
   "cell_type": "code",
   "execution_count": 8,
   "id": "377417bb",
   "metadata": {},
   "outputs": [],
   "source": [
    "assert data_adult_numerical_features.shape[0] == 15347\n",
    "assert data_adult_numerical_features.shape[1] == 6"
   ]
  },
  {
   "cell_type": "code",
   "execution_count": 9,
   "id": "0bda9245",
   "metadata": {},
   "outputs": [],
   "source": [
    "assert len(target) == 15347\n",
    "assert target[123] == -1\n",
    "assert target[1489] == 1"
   ]
  },
  {
   "cell_type": "code",
   "execution_count": 10,
   "id": "aa3c7d3a",
   "metadata": {},
   "outputs": [],
   "source": [
    "from sklearn.model_selection import train_test_split\n",
    "X_train, X_test, y_train, y_test = train_test_split(data_adult_numerical_features, target, test_size=0.25, random_state=13, \n",
    "                                                    shuffle = True, stratify = target)"
   ]
  },
  {
   "cell_type": "code",
   "execution_count": null,
   "id": "64b9f64e",
   "metadata": {},
   "outputs": [],
   "source": [
    "def make_plot_of_results_of_grid_search_depends_on_param(algorithm_name,\n",
    "                                                         hyperparam_name,\n",
    "                                                         cv_results_,\n",
    "                                                         xmin,\n",
    "                                                         xmax,\n",
    "                                                         ymin,\n",
    "                                                         ymax,\n",
    "                                                         ):\n",
    "    plt.figure(figsize=(16, 10))\n",
    "    plt.title(algorithm_name, fontsize=16)\n",
    "\n",
    "    plt.xlabel(hyperparam_name, fontsize=14)\n",
    "    plt.ylabel(\"F1 Score\", fontsize=14)\n",
    "\n",
    "    ax = plt.gca()\n",
    "    ax.set_xlim(xmin, xmax)\n",
    "    ax.set_ylim(ymin, ymax)\n",
    "\n",
    "    X_axis = cv_results_[hyperparam_name]\n",
    "    Y_axis = cv_results_['mean_train_score']\n",
    "    Y2_axis = cv_results_[\"mean_test_score\"]\n",
    "    Y3_axis_min = Y_axis - cv_results_['std_train_score']\n",
    "    Y3_axis_max = Y_axis + cv_results_['std_train_score']\n",
    "    Y4_axis_min = Y2_axis - cv_results_['std_test_score']\n",
    "    Y4_axis_max = Y2_axis + cv_results_['std_test_score']\n",
    "    ax.plot(X_axis, Y_axis,color='deepskyblue', label = 'auc_train_mean')\n",
    "    ax.fill_between(list(X_axis), list(Y3_axis_min), list(Y3_axis_max), color='lightcoral', label = 'std error on train data')\n",
    "\n",
    "    ax.plot(X_axis, Y2_axis, color = 'lime', label = 'auc_test_mean')\n",
    "    ax.fill_between(list(X_axis), list(Y4_axis_min), list(Y4_axis_max), color='pink',  label = 'std error on test data')\n",
    "\n",
    "    plt.legend(loc=\"best\")\n",
    "    plt.show()"
   ]
  },
  {
   "cell_type": "code",
   "execution_count": 11,
   "id": "1dee7213",
   "metadata": {},
   "outputs": [],
   "source": [
    "from sklearn.model_selection import GridSearchCV\n",
    "from sklearn.neighbors import KNeighborsClassifier\n",
    "from sklearn.linear_model import LogisticRegression\n",
    "from sklearn.tree import DecisionTreeClassifier\n",
    "from sklearn import svm"
   ]
  },
  {
   "cell_type": "markdown",
   "id": "65511591",
   "metadata": {},
   "source": [
    "### KNN"
   ]
  },
  {
   "cell_type": "code",
   "execution_count": 68,
   "id": "470b00dc",
   "metadata": {},
   "outputs": [
    {
     "name": "stdout",
     "output_type": "stream",
     "text": [
      "Best parameters {'n_neighbors': 1, 'p': 1}\n",
      "ROC AUC 0.4089829440838989\n"
     ]
    }
   ],
   "source": [
    "knn = KNeighborsClassifier()\n",
    "gridknn = {'n_neighbors': np.linspace(1,50,50, dtype=int), 'p':[1, 2]}\n",
    "knn_grid = GridSearchCV(knn, gridknn, scoring='f1', return_train_score = True)\n",
    "knn_grid.fit(X_train, y_train)\n",
    "print('Best parameters', knn_grid.best_params_)\n",
    "print('ROC AUC', knn_grid.best_score_)"
   ]
  },
  {
   "cell_type": "code",
   "execution_count": 79,
   "id": "737ca71e",
   "metadata": {},
   "outputs": [
    {
     "data": {
      "text/html": [
       "<div>\n",
       "<style scoped>\n",
       "    .dataframe tbody tr th:only-of-type {\n",
       "        vertical-align: middle;\n",
       "    }\n",
       "\n",
       "    .dataframe tbody tr th {\n",
       "        vertical-align: top;\n",
       "    }\n",
       "\n",
       "    .dataframe thead th {\n",
       "        text-align: right;\n",
       "    }\n",
       "</style>\n",
       "<table border=\"1\" class=\"dataframe\">\n",
       "  <thead>\n",
       "    <tr style=\"text-align: right;\">\n",
       "      <th></th>\n",
       "      <th>mean_fit_time</th>\n",
       "      <th>std_fit_time</th>\n",
       "      <th>mean_score_time</th>\n",
       "      <th>std_score_time</th>\n",
       "      <th>param_n_neighbors</th>\n",
       "      <th>param_p</th>\n",
       "      <th>params</th>\n",
       "      <th>split0_test_score</th>\n",
       "      <th>split1_test_score</th>\n",
       "      <th>split2_test_score</th>\n",
       "      <th>...</th>\n",
       "      <th>mean_test_score</th>\n",
       "      <th>std_test_score</th>\n",
       "      <th>rank_test_score</th>\n",
       "      <th>split0_train_score</th>\n",
       "      <th>split1_train_score</th>\n",
       "      <th>split2_train_score</th>\n",
       "      <th>split3_train_score</th>\n",
       "      <th>split4_train_score</th>\n",
       "      <th>mean_train_score</th>\n",
       "      <th>std_train_score</th>\n",
       "    </tr>\n",
       "  </thead>\n",
       "  <tbody>\n",
       "    <tr>\n",
       "      <th>0</th>\n",
       "      <td>0.035778</td>\n",
       "      <td>6.203794e-03</td>\n",
       "      <td>0.107739</td>\n",
       "      <td>0.002649</td>\n",
       "      <td>1</td>\n",
       "      <td>1</td>\n",
       "      <td>{'n_neighbors': 1, 'p': 1}</td>\n",
       "      <td>0.412805</td>\n",
       "      <td>0.413850</td>\n",
       "      <td>0.415712</td>\n",
       "      <td>...</td>\n",
       "      <td>0.408983</td>\n",
       "      <td>0.006790</td>\n",
       "      <td>1</td>\n",
       "      <td>0.998733</td>\n",
       "      <td>0.999154</td>\n",
       "      <td>0.999366</td>\n",
       "      <td>0.999577</td>\n",
       "      <td>0.998942</td>\n",
       "      <td>0.999154</td>\n",
       "      <td>0.000299</td>\n",
       "    </tr>\n",
       "    <tr>\n",
       "      <th>2</th>\n",
       "      <td>0.033775</td>\n",
       "      <td>9.786552e-04</td>\n",
       "      <td>0.115132</td>\n",
       "      <td>0.002131</td>\n",
       "      <td>2</td>\n",
       "      <td>1</td>\n",
       "      <td>{'n_neighbors': 2, 'p': 1}</td>\n",
       "      <td>0.328029</td>\n",
       "      <td>0.338164</td>\n",
       "      <td>0.327670</td>\n",
       "      <td>...</td>\n",
       "      <td>0.330325</td>\n",
       "      <td>0.012934</td>\n",
       "      <td>11</td>\n",
       "      <td>0.583159</td>\n",
       "      <td>0.577189</td>\n",
       "      <td>0.582309</td>\n",
       "      <td>0.584855</td>\n",
       "      <td>0.594948</td>\n",
       "      <td>0.584492</td>\n",
       "      <td>0.005820</td>\n",
       "    </tr>\n",
       "    <tr>\n",
       "      <th>4</th>\n",
       "      <td>0.031980</td>\n",
       "      <td>8.064048e-07</td>\n",
       "      <td>0.110133</td>\n",
       "      <td>0.000749</td>\n",
       "      <td>3</td>\n",
       "      <td>1</td>\n",
       "      <td>{'n_neighbors': 3, 'p': 1}</td>\n",
       "      <td>0.398414</td>\n",
       "      <td>0.380671</td>\n",
       "      <td>0.390735</td>\n",
       "      <td>...</td>\n",
       "      <td>0.387208</td>\n",
       "      <td>0.010083</td>\n",
       "      <td>3</td>\n",
       "      <td>0.646579</td>\n",
       "      <td>0.644262</td>\n",
       "      <td>0.649241</td>\n",
       "      <td>0.646085</td>\n",
       "      <td>0.656613</td>\n",
       "      <td>0.648556</td>\n",
       "      <td>0.004332</td>\n",
       "    </tr>\n",
       "    <tr>\n",
       "      <th>6</th>\n",
       "      <td>0.034577</td>\n",
       "      <td>1.623624e-03</td>\n",
       "      <td>0.127320</td>\n",
       "      <td>0.015113</td>\n",
       "      <td>4</td>\n",
       "      <td>1</td>\n",
       "      <td>{'n_neighbors': 4, 'p': 1}</td>\n",
       "      <td>0.323907</td>\n",
       "      <td>0.311224</td>\n",
       "      <td>0.311392</td>\n",
       "      <td>...</td>\n",
       "      <td>0.323308</td>\n",
       "      <td>0.010656</td>\n",
       "      <td>15</td>\n",
       "      <td>0.454203</td>\n",
       "      <td>0.461634</td>\n",
       "      <td>0.474807</td>\n",
       "      <td>0.466543</td>\n",
       "      <td>0.483436</td>\n",
       "      <td>0.468125</td>\n",
       "      <td>0.010174</td>\n",
       "    </tr>\n",
       "    <tr>\n",
       "      <th>8</th>\n",
       "      <td>0.032778</td>\n",
       "      <td>1.600196e-03</td>\n",
       "      <td>0.111730</td>\n",
       "      <td>0.001468</td>\n",
       "      <td>5</td>\n",
       "      <td>1</td>\n",
       "      <td>{'n_neighbors': 5, 'p': 1}</td>\n",
       "      <td>0.376844</td>\n",
       "      <td>0.348315</td>\n",
       "      <td>0.357224</td>\n",
       "      <td>...</td>\n",
       "      <td>0.358515</td>\n",
       "      <td>0.010339</td>\n",
       "      <td>5</td>\n",
       "      <td>0.518126</td>\n",
       "      <td>0.519922</td>\n",
       "      <td>0.530624</td>\n",
       "      <td>0.526810</td>\n",
       "      <td>0.540659</td>\n",
       "      <td>0.527228</td>\n",
       "      <td>0.008103</td>\n",
       "    </tr>\n",
       "  </tbody>\n",
       "</table>\n",
       "<p>5 rows × 22 columns</p>\n",
       "</div>"
      ],
      "text/plain": [
       "   mean_fit_time  std_fit_time  mean_score_time  std_score_time  \\\n",
       "0       0.035778  6.203794e-03         0.107739        0.002649   \n",
       "2       0.033775  9.786552e-04         0.115132        0.002131   \n",
       "4       0.031980  8.064048e-07         0.110133        0.000749   \n",
       "6       0.034577  1.623624e-03         0.127320        0.015113   \n",
       "8       0.032778  1.600196e-03         0.111730        0.001468   \n",
       "\n",
       "  param_n_neighbors param_p                      params  split0_test_score  \\\n",
       "0                 1       1  {'n_neighbors': 1, 'p': 1}           0.412805   \n",
       "2                 2       1  {'n_neighbors': 2, 'p': 1}           0.328029   \n",
       "4                 3       1  {'n_neighbors': 3, 'p': 1}           0.398414   \n",
       "6                 4       1  {'n_neighbors': 4, 'p': 1}           0.323907   \n",
       "8                 5       1  {'n_neighbors': 5, 'p': 1}           0.376844   \n",
       "\n",
       "   split1_test_score  split2_test_score  ...  mean_test_score  std_test_score  \\\n",
       "0           0.413850           0.415712  ...         0.408983        0.006790   \n",
       "2           0.338164           0.327670  ...         0.330325        0.012934   \n",
       "4           0.380671           0.390735  ...         0.387208        0.010083   \n",
       "6           0.311224           0.311392  ...         0.323308        0.010656   \n",
       "8           0.348315           0.357224  ...         0.358515        0.010339   \n",
       "\n",
       "   rank_test_score  split0_train_score  split1_train_score  \\\n",
       "0                1            0.998733            0.999154   \n",
       "2               11            0.583159            0.577189   \n",
       "4                3            0.646579            0.644262   \n",
       "6               15            0.454203            0.461634   \n",
       "8                5            0.518126            0.519922   \n",
       "\n",
       "   split2_train_score  split3_train_score  split4_train_score  \\\n",
       "0            0.999366            0.999577            0.998942   \n",
       "2            0.582309            0.584855            0.594948   \n",
       "4            0.649241            0.646085            0.656613   \n",
       "6            0.474807            0.466543            0.483436   \n",
       "8            0.530624            0.526810            0.540659   \n",
       "\n",
       "   mean_train_score  std_train_score  \n",
       "0          0.999154         0.000299  \n",
       "2          0.584492         0.005820  \n",
       "4          0.648556         0.004332  \n",
       "6          0.468125         0.010174  \n",
       "8          0.527228         0.008103  \n",
       "\n",
       "[5 rows x 22 columns]"
      ]
     },
     "execution_count": 79,
     "metadata": {},
     "output_type": "execute_result"
    }
   ],
   "source": [
    "cv_results_knn = pd.DataFrame(knn_grid.cv_results_)\n",
    "cv_results_knn_ = cv_results_knn.drop(cv_results_knn[cv_results_knn['param_p'] == 2].index)\n",
    "cv_results_knn_.head()"
   ]
  },
  {
   "cell_type": "code",
   "execution_count": 159,
   "id": "d7064338",
   "metadata": {},
   "outputs": [
    {
     "data": {
      "image/png": "[encoded data removed]",
      "text/plain": [
       "<Figure size 1152x720 with 1 Axes>"
      ]
     },
     "metadata": {},
     "output_type": "display_data"
    }
   ],
   "source": [
    "plt.figure(figsize=(16, 10))\n",
    "plt.title(\"GridSearchCV evaluating KNN method (p = 1)\", fontsize=16)\n",
    "\n",
    "plt.xlabel(\"Number of neighbours\", fontsize=14)\n",
    "plt.ylabel(\"F1 Score\", fontsize=14)\n",
    "\n",
    "ax = plt.gca()\n",
    "ax.set_xlim(0, 50)\n",
    "ax.set_ylim(0.1, 1)\n",
    "\n",
    "X_axis = cv_results_knn_[\"param_n_neighbors\"]\n",
    "Y_axis = cv_results_knn_['mean_train_score']\n",
    "Y2_axis = cv_results_knn_[\"mean_test_score\"]\n",
    "Y3_axis_min = Y_axis - cv_results_knn_['std_train_score']\n",
    "Y3_axis_max = Y_axis + cv_results_knn_['std_train_score']\n",
    "Y4_axis_min = Y2_axis - cv_results_knn_['std_test_score']\n",
    "Y4_axis_max = Y2_axis + cv_results_knn_['std_test_score']\n",
    "ax.plot(X_axis, Y_axis,color='deepskyblue', label = 'auc_train_mean')\n",
    "ax.fill_between(list(X_axis), list(Y3_axis_min), list(Y3_axis_max), color='lightcoral', label = 'std error on train data')\n",
    "\n",
    "ax.plot(X_axis, Y2_axis, color = 'lime', label = 'auc_test_mean')\n",
    "ax.fill_between(list(X_axis), list(Y4_axis_min), list(Y4_axis_max), color='pink',  label = 'std error on test data')\n",
    "\n",
    "plt.legend(loc=\"best\")\n",
    "plt.show()"
   ]
  },
  {
   "cell_type": "markdown",
   "id": "83be3f91",
   "metadata": {},
   "source": [
    "### Logistic regression"
   ]
  },
  {
   "cell_type": "code",
   "execution_count": 23,
   "id": "9dc4b283",
   "metadata": {},
   "outputs": [
    {
     "name": "stdout",
     "output_type": "stream",
     "text": [
      "Best parameters {'C': 20.30917620904739, 'penalty': 'l1'}\n",
      "Best score 0.5035155174885846\n"
     ]
    }
   ],
   "source": [
    "logreg = LogisticRegression(solver= 'liblinear')\n",
    "gridlogreg = {'C': np.logspace(-3,3,40), 'penalty':['l1', 'l2']}\n",
    "logreg_grid = GridSearchCV(logreg, gridlogreg, scoring='f1', return_train_score = True)\n",
    "logreg_grid.fit(X_train, y_train)\n",
    "print('Best parameters', logreg_grid.best_params_)\n",
    "print('Best score', logreg_grid.best_score_)"
   ]
  },
  {
   "cell_type": "code",
   "execution_count": 30,
   "id": "6a8e1cef",
   "metadata": {},
   "outputs": [
    {
     "data": {
      "text/html": [
       "<div>\n",
       "<style scoped>\n",
       "    .dataframe tbody tr th:only-of-type {\n",
       "        vertical-align: middle;\n",
       "    }\n",
       "\n",
       "    .dataframe tbody tr th {\n",
       "        vertical-align: top;\n",
       "    }\n",
       "\n",
       "    .dataframe thead th {\n",
       "        text-align: right;\n",
       "    }\n",
       "</style>\n",
       "<table border=\"1\" class=\"dataframe\">\n",
       "  <thead>\n",
       "    <tr style=\"text-align: right;\">\n",
       "      <th></th>\n",
       "      <th>mean_fit_time</th>\n",
       "      <th>std_fit_time</th>\n",
       "      <th>mean_score_time</th>\n",
       "      <th>std_score_time</th>\n",
       "      <th>param_C</th>\n",
       "      <th>param_penalty</th>\n",
       "      <th>params</th>\n",
       "      <th>split0_test_score</th>\n",
       "      <th>split1_test_score</th>\n",
       "      <th>split2_test_score</th>\n",
       "      <th>...</th>\n",
       "      <th>mean_test_score</th>\n",
       "      <th>std_test_score</th>\n",
       "      <th>rank_test_score</th>\n",
       "      <th>split0_train_score</th>\n",
       "      <th>split1_train_score</th>\n",
       "      <th>split2_train_score</th>\n",
       "      <th>split3_train_score</th>\n",
       "      <th>split4_train_score</th>\n",
       "      <th>mean_train_score</th>\n",
       "      <th>std_train_score</th>\n",
       "    </tr>\n",
       "  </thead>\n",
       "  <tbody>\n",
       "    <tr>\n",
       "      <th>0</th>\n",
       "      <td>0.014192</td>\n",
       "      <td>0.003188</td>\n",
       "      <td>0.003398</td>\n",
       "      <td>0.000490</td>\n",
       "      <td>0.001</td>\n",
       "      <td>l1</td>\n",
       "      <td>{'C': 0.001, 'penalty': 'l1'}</td>\n",
       "      <td>0.375622</td>\n",
       "      <td>0.363409</td>\n",
       "      <td>0.377404</td>\n",
       "      <td>...</td>\n",
       "      <td>0.378709</td>\n",
       "      <td>0.013739</td>\n",
       "      <td>79</td>\n",
       "      <td>0.381953</td>\n",
       "      <td>0.382544</td>\n",
       "      <td>0.390304</td>\n",
       "      <td>0.375270</td>\n",
       "      <td>0.383857</td>\n",
       "      <td>0.382786</td>\n",
       "      <td>0.004794</td>\n",
       "    </tr>\n",
       "    <tr>\n",
       "      <th>2</th>\n",
       "      <td>0.015390</td>\n",
       "      <td>0.003553</td>\n",
       "      <td>0.003198</td>\n",
       "      <td>0.000400</td>\n",
       "      <td>0.001425</td>\n",
       "      <td>l1</td>\n",
       "      <td>{'C': 0.0014251026703029977, 'penalty': 'l1'}</td>\n",
       "      <td>0.375622</td>\n",
       "      <td>0.361355</td>\n",
       "      <td>0.376951</td>\n",
       "      <td>...</td>\n",
       "      <td>0.377721</td>\n",
       "      <td>0.013533</td>\n",
       "      <td>80</td>\n",
       "      <td>0.382480</td>\n",
       "      <td>0.383163</td>\n",
       "      <td>0.389810</td>\n",
       "      <td>0.375387</td>\n",
       "      <td>0.384094</td>\n",
       "      <td>0.382987</td>\n",
       "      <td>0.004601</td>\n",
       "    </tr>\n",
       "    <tr>\n",
       "      <th>4</th>\n",
       "      <td>0.012193</td>\n",
       "      <td>0.001469</td>\n",
       "      <td>0.003198</td>\n",
       "      <td>0.000400</td>\n",
       "      <td>0.002031</td>\n",
       "      <td>l1</td>\n",
       "      <td>{'C': 0.002030917620904735, 'penalty': 'l1'}</td>\n",
       "      <td>0.375622</td>\n",
       "      <td>0.365457</td>\n",
       "      <td>0.375598</td>\n",
       "      <td>...</td>\n",
       "      <td>0.378867</td>\n",
       "      <td>0.012643</td>\n",
       "      <td>77</td>\n",
       "      <td>0.381599</td>\n",
       "      <td>0.382781</td>\n",
       "      <td>0.390558</td>\n",
       "      <td>0.375387</td>\n",
       "      <td>0.384687</td>\n",
       "      <td>0.383002</td>\n",
       "      <td>0.004898</td>\n",
       "    </tr>\n",
       "    <tr>\n",
       "      <th>6</th>\n",
       "      <td>0.012592</td>\n",
       "      <td>0.001624</td>\n",
       "      <td>0.003398</td>\n",
       "      <td>0.000490</td>\n",
       "      <td>0.002894</td>\n",
       "      <td>l1</td>\n",
       "      <td>{'C': 0.0028942661247167516, 'penalty': 'l1'}</td>\n",
       "      <td>0.375622</td>\n",
       "      <td>0.365457</td>\n",
       "      <td>0.376951</td>\n",
       "      <td>...</td>\n",
       "      <td>0.378826</td>\n",
       "      <td>0.012710</td>\n",
       "      <td>78</td>\n",
       "      <td>0.381717</td>\n",
       "      <td>0.382781</td>\n",
       "      <td>0.390049</td>\n",
       "      <td>0.375387</td>\n",
       "      <td>0.383477</td>\n",
       "      <td>0.382682</td>\n",
       "      <td>0.004671</td>\n",
       "    </tr>\n",
       "    <tr>\n",
       "      <th>8</th>\n",
       "      <td>0.021387</td>\n",
       "      <td>0.006340</td>\n",
       "      <td>0.003398</td>\n",
       "      <td>0.000489</td>\n",
       "      <td>0.004125</td>\n",
       "      <td>l1</td>\n",
       "      <td>{'C': 0.004124626382901352, 'penalty': 'l1'}</td>\n",
       "      <td>0.390062</td>\n",
       "      <td>0.376884</td>\n",
       "      <td>0.382212</td>\n",
       "      <td>...</td>\n",
       "      <td>0.390506</td>\n",
       "      <td>0.014970</td>\n",
       "      <td>36</td>\n",
       "      <td>0.391733</td>\n",
       "      <td>0.391452</td>\n",
       "      <td>0.395584</td>\n",
       "      <td>0.385900</td>\n",
       "      <td>0.394210</td>\n",
       "      <td>0.391776</td>\n",
       "      <td>0.003319</td>\n",
       "    </tr>\n",
       "  </tbody>\n",
       "</table>\n",
       "<p>5 rows × 22 columns</p>\n",
       "</div>"
      ],
      "text/plain": [
       "   mean_fit_time  std_fit_time  mean_score_time  std_score_time   param_C  \\\n",
       "0       0.014192      0.003188         0.003398        0.000490     0.001   \n",
       "2       0.015390      0.003553         0.003198        0.000400  0.001425   \n",
       "4       0.012193      0.001469         0.003198        0.000400  0.002031   \n",
       "6       0.012592      0.001624         0.003398        0.000490  0.002894   \n",
       "8       0.021387      0.006340         0.003398        0.000489  0.004125   \n",
       "\n",
       "  param_penalty                                         params  \\\n",
       "0            l1                  {'C': 0.001, 'penalty': 'l1'}   \n",
       "2            l1  {'C': 0.0014251026703029977, 'penalty': 'l1'}   \n",
       "4            l1   {'C': 0.002030917620904735, 'penalty': 'l1'}   \n",
       "6            l1  {'C': 0.0028942661247167516, 'penalty': 'l1'}   \n",
       "8            l1   {'C': 0.004124626382901352, 'penalty': 'l1'}   \n",
       "\n",
       "   split0_test_score  split1_test_score  split2_test_score  ...  \\\n",
       "0           0.375622           0.363409           0.377404  ...   \n",
       "2           0.375622           0.361355           0.376951  ...   \n",
       "4           0.375622           0.365457           0.375598  ...   \n",
       "6           0.375622           0.365457           0.376951  ...   \n",
       "8           0.390062           0.376884           0.382212  ...   \n",
       "\n",
       "   mean_test_score  std_test_score  rank_test_score  split0_train_score  \\\n",
       "0         0.378709        0.013739               79            0.381953   \n",
       "2         0.377721        0.013533               80            0.382480   \n",
       "4         0.378867        0.012643               77            0.381599   \n",
       "6         0.378826        0.012710               78            0.381717   \n",
       "8         0.390506        0.014970               36            0.391733   \n",
       "\n",
       "   split1_train_score  split2_train_score  split3_train_score  \\\n",
       "0            0.382544            0.390304            0.375270   \n",
       "2            0.383163            0.389810            0.375387   \n",
       "4            0.382781            0.390558            0.375387   \n",
       "6            0.382781            0.390049            0.375387   \n",
       "8            0.391452            0.395584            0.385900   \n",
       "\n",
       "   split4_train_score  mean_train_score  std_train_score  \n",
       "0            0.383857          0.382786         0.004794  \n",
       "2            0.384094          0.382987         0.004601  \n",
       "4            0.384687          0.383002         0.004898  \n",
       "6            0.383477          0.382682         0.004671  \n",
       "8            0.394210          0.391776         0.003319  \n",
       "\n",
       "[5 rows x 22 columns]"
      ]
     },
     "execution_count": 30,
     "metadata": {},
     "output_type": "execute_result"
    }
   ],
   "source": [
    "cv_results_logreg = pd.DataFrame(logreg_grid.cv_results_)\n",
    "cv_results_logreg_ = cv_results_logreg.drop(cv_results_logreg[cv_results_logreg['param_penalty'] == 'l2'].index)\n",
    "cv_results_logreg_.head()"
   ]
  },
  {
   "cell_type": "code",
   "execution_count": 47,
   "id": "fd966714",
   "metadata": {},
   "outputs": [
    {
     "data": {
      "image/png": "[encoded data removed]",
      "text/plain": [
       "<Figure size 1152x720 with 1 Axes>"
      ]
     },
     "metadata": {
      "needs_background": "light"
     },
     "output_type": "display_data"
    }
   ],
   "source": [
    "plt.figure(figsize=(16, 10))\n",
    "plt.title(\"GridSearchCV evaluating Logistic Regression method (l1)\", fontsize=16)\n",
    "\n",
    "plt.xlabel(\"C\", fontsize=14)\n",
    "plt.ylabel(\"F1 Score\", fontsize=14)\n",
    "\n",
    "ax = plt.gca()\n",
    "ax.set_xlim(0, 0.5)\n",
    "ax.set_ylim(0.3, 0.6)\n",
    "\n",
    "X_axis = cv_results_logreg_[\"param_C\"]\n",
    "Y_axis = cv_results_logreg_['mean_train_score']\n",
    "Y2_axis = cv_results_logreg_[\"mean_test_score\"]\n",
    "Y3_axis_min = Y_axis - cv_results_logreg_['std_train_score']\n",
    "Y3_axis_max = Y_axis + cv_results_logreg_['std_train_score']\n",
    "Y4_axis_min = Y2_axis - cv_results_logreg_['std_test_score']\n",
    "Y4_axis_max = Y2_axis + cv_results_logreg_['std_test_score']\n",
    "ax.plot(X_axis, Y_axis,color='deepskyblue', label = 'auc_train_mean')\n",
    "ax.fill_between(list(X_axis), list(Y3_axis_min), list(Y3_axis_max), color='lightcoral', label = 'std error on train data')\n",
    "\n",
    "ax.plot(X_axis, Y2_axis, color = 'lime', label = 'auc_test_mean')\n",
    "ax.fill_between(list(X_axis), list(Y4_axis_min), list(Y4_axis_max), color='pink',  label = 'std error on test data')\n",
    "ax.grid()\n",
    "ax.set_facecolor('gainsboro')\n",
    "plt.legend(loc=\"best\")\n",
    "plt.show()"
   ]
  },
  {
   "cell_type": "markdown",
   "id": "93f13f8d",
   "metadata": {},
   "source": [
    "### Decision Tree"
   ]
  },
  {
   "cell_type": "code",
   "execution_count": 50,
   "id": "5d89c386",
   "metadata": {},
   "outputs": [
    {
     "name": "stdout",
     "output_type": "stream",
     "text": [
      "Best parameters {'criterion': 'gini', 'max_depth': 3}\n",
      "Best score 0.5797208276677696\n"
     ]
    }
   ],
   "source": [
    "dectree = DecisionTreeClassifier(random_state = 13)\n",
    "griddectree = {'max_depth': np.linspace(1,50,50, dtype=int), 'criterion':['gini', 'entropy']}\n",
    "dectree_grid = GridSearchCV(dectree, griddectree, scoring='f1', return_train_score = True)\n",
    "dectree_grid.fit(X_train, y_train)\n",
    "print('Best parameters', dectree_grid.best_params_)\n",
    "print('Best score', dectree_grid.best_score_)"
   ]
  },
  {
   "cell_type": "code",
   "execution_count": 55,
   "id": "e9eaf3cf",
   "metadata": {},
   "outputs": [],
   "source": [
    "cv_results_dectree = pd.DataFrame(dectree_grid.cv_results_)\n",
    "cv_results_dectree_ = cv_results_dectree.drop(cv_results_dectree[cv_results_dectree['param_criterion'] == 'entropy'].index)"
   ]
  },
  {
   "cell_type": "code",
   "execution_count": 60,
   "id": "ae896199",
   "metadata": {},
   "outputs": [
    {
     "data": {
      "image/png": "[encoded data removed]",
      "text/plain": [
       "<Figure size 1152x720 with 1 Axes>"
      ]
     },
     "metadata": {
      "needs_background": "light"
     },
     "output_type": "display_data"
    }
   ],
   "source": [
    "plt.figure(figsize=(16, 10))\n",
    "plt.title(\"GridSearchCV evaluating Decision Tree method (Gini criterion)\", fontsize=16)\n",
    "\n",
    "plt.xlabel(\"Depth of the tree\", fontsize=14)\n",
    "plt.ylabel(\"F1 Score\", fontsize=14)\n",
    "\n",
    "ax = plt.gca()\n",
    "ax.set_xlim(1, 50)\n",
    "ax.set_ylim(0.25, 1.1)\n",
    "\n",
    "X_axis = cv_results_dectree_[\"param_max_depth\"]\n",
    "Y_axis = cv_results_dectree_['mean_train_score']\n",
    "Y2_axis = cv_results_dectree_[\"mean_test_score\"]\n",
    "Y3_axis_min = Y_axis - cv_results_dectree_['std_train_score']\n",
    "Y3_axis_max = Y_axis + cv_results_dectree_['std_train_score']\n",
    "Y4_axis_min = Y2_axis - cv_results_dectree_['std_test_score']\n",
    "Y4_axis_max = Y2_axis + cv_results_dectree_['std_test_score']\n",
    "ax.plot(X_axis, Y_axis,color='deepskyblue', label = 'auc_train_mean')\n",
    "ax.fill_between(list(X_axis), list(Y3_axis_min), list(Y3_axis_max), color='lightcoral', label = 'std error on train data')\n",
    "\n",
    "ax.plot(X_axis, Y2_axis, color = 'lime', label = 'auc_test_mean')\n",
    "ax.fill_between(list(X_axis), list(Y4_axis_min), list(Y4_axis_max), color='pink',  label = 'std error on test data')\n",
    "ax.grid()\n",
    "ax.set_facecolor('gainsboro')\n",
    "plt.legend(loc=\"best\")\n",
    "plt.show()"
   ]
  },
  {
   "cell_type": "markdown",
   "id": "070fc426",
   "metadata": {},
   "source": [
    "Наблюдаем явное переобучение с ростом глубины дерева:)"
   ]
  },
  {
   "cell_type": "markdown",
   "id": "6589f01a",
   "metadata": {},
   "source": [
    "### SVM"
   ]
  },
  {
   "cell_type": "code",
   "execution_count": 13,
   "id": "a8d8b2d8",
   "metadata": {},
   "outputs": [
    {
     "name": "stderr",
     "output_type": "stream",
     "text": [
      "C:\\ProgramData\\Anaconda3\\lib\\site-packages\\sklearn\\svm\\_base.py:985: ConvergenceWarning: Liblinear failed to converge, increase the number of iterations.\n",
      "  warnings.warn(\"Liblinear failed to converge, increase \"\n",
      "C:\\ProgramData\\Anaconda3\\lib\\site-packages\\sklearn\\svm\\_base.py:985: ConvergenceWarning: Liblinear failed to converge, increase the number of iterations.\n",
      "  warnings.warn(\"Liblinear failed to converge, increase \"\n",
      "C:\\ProgramData\\Anaconda3\\lib\\site-packages\\sklearn\\svm\\_base.py:985: ConvergenceWarning: Liblinear failed to converge, increase the number of iterations.\n",
      "  warnings.warn(\"Liblinear failed to converge, increase \"\n",
      "C:\\ProgramData\\Anaconda3\\lib\\site-packages\\sklearn\\svm\\_base.py:985: ConvergenceWarning: Liblinear failed to converge, increase the number of iterations.\n",
      "  warnings.warn(\"Liblinear failed to converge, increase \"\n",
      "C:\\ProgramData\\Anaconda3\\lib\\site-packages\\sklearn\\svm\\_base.py:985: ConvergenceWarning: Liblinear failed to converge, increase the number of iterations.\n",
      "  warnings.warn(\"Liblinear failed to converge, increase \"\n",
      "C:\\ProgramData\\Anaconda3\\lib\\site-packages\\sklearn\\svm\\_base.py:985: ConvergenceWarning: Liblinear failed to converge, increase the number of iterations.\n",
      "  warnings.warn(\"Liblinear failed to converge, increase \"\n",
      "C:\\ProgramData\\Anaconda3\\lib\\site-packages\\sklearn\\svm\\_base.py:985: ConvergenceWarning: Liblinear failed to converge, increase the number of iterations.\n",
      "  warnings.warn(\"Liblinear failed to converge, increase \"\n",
      "C:\\ProgramData\\Anaconda3\\lib\\site-packages\\sklearn\\svm\\_base.py:985: ConvergenceWarning: Liblinear failed to converge, increase the number of iterations.\n",
      "  warnings.warn(\"Liblinear failed to converge, increase \"\n",
      "C:\\ProgramData\\Anaconda3\\lib\\site-packages\\sklearn\\svm\\_base.py:985: ConvergenceWarning: Liblinear failed to converge, increase the number of iterations.\n",
      "  warnings.warn(\"Liblinear failed to converge, increase \"\n",
      "C:\\ProgramData\\Anaconda3\\lib\\site-packages\\sklearn\\svm\\_base.py:985: ConvergenceWarning: Liblinear failed to converge, increase the number of iterations.\n",
      "  warnings.warn(\"Liblinear failed to converge, increase \"\n",
      "C:\\ProgramData\\Anaconda3\\lib\\site-packages\\sklearn\\svm\\_base.py:985: ConvergenceWarning: Liblinear failed to converge, increase the number of iterations.\n",
      "  warnings.warn(\"Liblinear failed to converge, increase \"\n",
      "C:\\ProgramData\\Anaconda3\\lib\\site-packages\\sklearn\\svm\\_base.py:985: ConvergenceWarning: Liblinear failed to converge, increase the number of iterations.\n",
      "  warnings.warn(\"Liblinear failed to converge, increase \"\n",
      "C:\\ProgramData\\Anaconda3\\lib\\site-packages\\sklearn\\svm\\_base.py:985: ConvergenceWarning: Liblinear failed to converge, increase the number of iterations.\n",
      "  warnings.warn(\"Liblinear failed to converge, increase \"\n",
      "C:\\ProgramData\\Anaconda3\\lib\\site-packages\\sklearn\\svm\\_base.py:985: ConvergenceWarning: Liblinear failed to converge, increase the number of iterations.\n",
      "  warnings.warn(\"Liblinear failed to converge, increase \"\n",
      "C:\\ProgramData\\Anaconda3\\lib\\site-packages\\sklearn\\svm\\_base.py:985: ConvergenceWarning: Liblinear failed to converge, increase the number of iterations.\n",
      "  warnings.warn(\"Liblinear failed to converge, increase \"\n",
      "C:\\ProgramData\\Anaconda3\\lib\\site-packages\\sklearn\\svm\\_base.py:985: ConvergenceWarning: Liblinear failed to converge, increase the number of iterations.\n",
      "  warnings.warn(\"Liblinear failed to converge, increase \"\n",
      "C:\\ProgramData\\Anaconda3\\lib\\site-packages\\sklearn\\svm\\_base.py:985: ConvergenceWarning: Liblinear failed to converge, increase the number of iterations.\n",
      "  warnings.warn(\"Liblinear failed to converge, increase \"\n",
      "C:\\ProgramData\\Anaconda3\\lib\\site-packages\\sklearn\\svm\\_base.py:985: ConvergenceWarning: Liblinear failed to converge, increase the number of iterations.\n",
      "  warnings.warn(\"Liblinear failed to converge, increase \"\n",
      "C:\\ProgramData\\Anaconda3\\lib\\site-packages\\sklearn\\svm\\_base.py:985: ConvergenceWarning: Liblinear failed to converge, increase the number of iterations.\n",
      "  warnings.warn(\"Liblinear failed to converge, increase \"\n",
      "C:\\ProgramData\\Anaconda3\\lib\\site-packages\\sklearn\\svm\\_base.py:985: ConvergenceWarning: Liblinear failed to converge, increase the number of iterations.\n",
      "  warnings.warn(\"Liblinear failed to converge, increase \"\n",
      "C:\\ProgramData\\Anaconda3\\lib\\site-packages\\sklearn\\svm\\_base.py:985: ConvergenceWarning: Liblinear failed to converge, increase the number of iterations.\n",
      "  warnings.warn(\"Liblinear failed to converge, increase \"\n",
      "C:\\ProgramData\\Anaconda3\\lib\\site-packages\\sklearn\\svm\\_base.py:985: ConvergenceWarning: Liblinear failed to converge, increase the number of iterations.\n",
      "  warnings.warn(\"Liblinear failed to converge, increase \"\n",
      "C:\\ProgramData\\Anaconda3\\lib\\site-packages\\sklearn\\svm\\_base.py:985: ConvergenceWarning: Liblinear failed to converge, increase the number of iterations.\n",
      "  warnings.warn(\"Liblinear failed to converge, increase \"\n",
      "C:\\ProgramData\\Anaconda3\\lib\\site-packages\\sklearn\\svm\\_base.py:985: ConvergenceWarning: Liblinear failed to converge, increase the number of iterations.\n",
      "  warnings.warn(\"Liblinear failed to converge, increase \"\n",
      "C:\\ProgramData\\Anaconda3\\lib\\site-packages\\sklearn\\svm\\_base.py:985: ConvergenceWarning: Liblinear failed to converge, increase the number of iterations.\n",
      "  warnings.warn(\"Liblinear failed to converge, increase \"\n",
      "C:\\ProgramData\\Anaconda3\\lib\\site-packages\\sklearn\\svm\\_base.py:985: ConvergenceWarning: Liblinear failed to converge, increase the number of iterations.\n",
      "  warnings.warn(\"Liblinear failed to converge, increase \"\n",
      "C:\\ProgramData\\Anaconda3\\lib\\site-packages\\sklearn\\svm\\_base.py:985: ConvergenceWarning: Liblinear failed to converge, increase the number of iterations.\n",
      "  warnings.warn(\"Liblinear failed to converge, increase \"\n",
      "C:\\ProgramData\\Anaconda3\\lib\\site-packages\\sklearn\\svm\\_base.py:985: ConvergenceWarning: Liblinear failed to converge, increase the number of iterations.\n",
      "  warnings.warn(\"Liblinear failed to converge, increase \"\n",
      "C:\\ProgramData\\Anaconda3\\lib\\site-packages\\sklearn\\svm\\_base.py:985: ConvergenceWarning: Liblinear failed to converge, increase the number of iterations.\n",
      "  warnings.warn(\"Liblinear failed to converge, increase \"\n",
      "C:\\ProgramData\\Anaconda3\\lib\\site-packages\\sklearn\\svm\\_base.py:985: ConvergenceWarning: Liblinear failed to converge, increase the number of iterations.\n",
      "  warnings.warn(\"Liblinear failed to converge, increase \"\n",
      "C:\\ProgramData\\Anaconda3\\lib\\site-packages\\sklearn\\svm\\_base.py:985: ConvergenceWarning: Liblinear failed to converge, increase the number of iterations.\n",
      "  warnings.warn(\"Liblinear failed to converge, increase \"\n",
      "C:\\ProgramData\\Anaconda3\\lib\\site-packages\\sklearn\\svm\\_base.py:985: ConvergenceWarning: Liblinear failed to converge, increase the number of iterations.\n",
      "  warnings.warn(\"Liblinear failed to converge, increase \"\n",
      "C:\\ProgramData\\Anaconda3\\lib\\site-packages\\sklearn\\svm\\_base.py:985: ConvergenceWarning: Liblinear failed to converge, increase the number of iterations.\n",
      "  warnings.warn(\"Liblinear failed to converge, increase \"\n",
      "C:\\ProgramData\\Anaconda3\\lib\\site-packages\\sklearn\\svm\\_base.py:985: ConvergenceWarning: Liblinear failed to converge, increase the number of iterations.\n",
      "  warnings.warn(\"Liblinear failed to converge, increase \"\n",
      "C:\\ProgramData\\Anaconda3\\lib\\site-packages\\sklearn\\svm\\_base.py:985: ConvergenceWarning: Liblinear failed to converge, increase the number of iterations.\n",
      "  warnings.warn(\"Liblinear failed to converge, increase \"\n",
      "C:\\ProgramData\\Anaconda3\\lib\\site-packages\\sklearn\\svm\\_base.py:985: ConvergenceWarning: Liblinear failed to converge, increase the number of iterations.\n",
      "  warnings.warn(\"Liblinear failed to converge, increase \"\n",
      "C:\\ProgramData\\Anaconda3\\lib\\site-packages\\sklearn\\svm\\_base.py:985: ConvergenceWarning: Liblinear failed to converge, increase the number of iterations.\n",
      "  warnings.warn(\"Liblinear failed to converge, increase \"\n",
      "C:\\ProgramData\\Anaconda3\\lib\\site-packages\\sklearn\\svm\\_base.py:985: ConvergenceWarning: Liblinear failed to converge, increase the number of iterations.\n",
      "  warnings.warn(\"Liblinear failed to converge, increase \"\n",
      "C:\\ProgramData\\Anaconda3\\lib\\site-packages\\sklearn\\svm\\_base.py:985: ConvergenceWarning: Liblinear failed to converge, increase the number of iterations.\n",
      "  warnings.warn(\"Liblinear failed to converge, increase \"\n"
     ]
    },
    {
     "name": "stderr",
     "output_type": "stream",
     "text": [
      "C:\\ProgramData\\Anaconda3\\lib\\site-packages\\sklearn\\svm\\_base.py:985: ConvergenceWarning: Liblinear failed to converge, increase the number of iterations.\n",
      "  warnings.warn(\"Liblinear failed to converge, increase \"\n",
      "C:\\ProgramData\\Anaconda3\\lib\\site-packages\\sklearn\\svm\\_base.py:985: ConvergenceWarning: Liblinear failed to converge, increase the number of iterations.\n",
      "  warnings.warn(\"Liblinear failed to converge, increase \"\n",
      "C:\\ProgramData\\Anaconda3\\lib\\site-packages\\sklearn\\svm\\_base.py:985: ConvergenceWarning: Liblinear failed to converge, increase the number of iterations.\n",
      "  warnings.warn(\"Liblinear failed to converge, increase \"\n",
      "C:\\ProgramData\\Anaconda3\\lib\\site-packages\\sklearn\\svm\\_base.py:985: ConvergenceWarning: Liblinear failed to converge, increase the number of iterations.\n",
      "  warnings.warn(\"Liblinear failed to converge, increase \"\n",
      "C:\\ProgramData\\Anaconda3\\lib\\site-packages\\sklearn\\svm\\_base.py:985: ConvergenceWarning: Liblinear failed to converge, increase the number of iterations.\n",
      "  warnings.warn(\"Liblinear failed to converge, increase \"\n",
      "C:\\ProgramData\\Anaconda3\\lib\\site-packages\\sklearn\\svm\\_base.py:985: ConvergenceWarning: Liblinear failed to converge, increase the number of iterations.\n",
      "  warnings.warn(\"Liblinear failed to converge, increase \"\n",
      "C:\\ProgramData\\Anaconda3\\lib\\site-packages\\sklearn\\svm\\_base.py:985: ConvergenceWarning: Liblinear failed to converge, increase the number of iterations.\n",
      "  warnings.warn(\"Liblinear failed to converge, increase \"\n",
      "C:\\ProgramData\\Anaconda3\\lib\\site-packages\\sklearn\\svm\\_base.py:985: ConvergenceWarning: Liblinear failed to converge, increase the number of iterations.\n",
      "  warnings.warn(\"Liblinear failed to converge, increase \"\n",
      "C:\\ProgramData\\Anaconda3\\lib\\site-packages\\sklearn\\svm\\_base.py:985: ConvergenceWarning: Liblinear failed to converge, increase the number of iterations.\n",
      "  warnings.warn(\"Liblinear failed to converge, increase \"\n",
      "C:\\ProgramData\\Anaconda3\\lib\\site-packages\\sklearn\\svm\\_base.py:985: ConvergenceWarning: Liblinear failed to converge, increase the number of iterations.\n",
      "  warnings.warn(\"Liblinear failed to converge, increase \"\n",
      "C:\\ProgramData\\Anaconda3\\lib\\site-packages\\sklearn\\svm\\_base.py:985: ConvergenceWarning: Liblinear failed to converge, increase the number of iterations.\n",
      "  warnings.warn(\"Liblinear failed to converge, increase \"\n",
      "C:\\ProgramData\\Anaconda3\\lib\\site-packages\\sklearn\\svm\\_base.py:985: ConvergenceWarning: Liblinear failed to converge, increase the number of iterations.\n",
      "  warnings.warn(\"Liblinear failed to converge, increase \"\n",
      "C:\\ProgramData\\Anaconda3\\lib\\site-packages\\sklearn\\svm\\_base.py:985: ConvergenceWarning: Liblinear failed to converge, increase the number of iterations.\n",
      "  warnings.warn(\"Liblinear failed to converge, increase \"\n",
      "C:\\ProgramData\\Anaconda3\\lib\\site-packages\\sklearn\\svm\\_base.py:985: ConvergenceWarning: Liblinear failed to converge, increase the number of iterations.\n",
      "  warnings.warn(\"Liblinear failed to converge, increase \"\n",
      "C:\\ProgramData\\Anaconda3\\lib\\site-packages\\sklearn\\svm\\_base.py:985: ConvergenceWarning: Liblinear failed to converge, increase the number of iterations.\n",
      "  warnings.warn(\"Liblinear failed to converge, increase \"\n",
      "C:\\ProgramData\\Anaconda3\\lib\\site-packages\\sklearn\\svm\\_base.py:985: ConvergenceWarning: Liblinear failed to converge, increase the number of iterations.\n",
      "  warnings.warn(\"Liblinear failed to converge, increase \"\n",
      "C:\\ProgramData\\Anaconda3\\lib\\site-packages\\sklearn\\svm\\_base.py:985: ConvergenceWarning: Liblinear failed to converge, increase the number of iterations.\n",
      "  warnings.warn(\"Liblinear failed to converge, increase \"\n",
      "C:\\ProgramData\\Anaconda3\\lib\\site-packages\\sklearn\\svm\\_base.py:985: ConvergenceWarning: Liblinear failed to converge, increase the number of iterations.\n",
      "  warnings.warn(\"Liblinear failed to converge, increase \"\n",
      "C:\\ProgramData\\Anaconda3\\lib\\site-packages\\sklearn\\svm\\_base.py:985: ConvergenceWarning: Liblinear failed to converge, increase the number of iterations.\n",
      "  warnings.warn(\"Liblinear failed to converge, increase \"\n",
      "C:\\ProgramData\\Anaconda3\\lib\\site-packages\\sklearn\\svm\\_base.py:985: ConvergenceWarning: Liblinear failed to converge, increase the number of iterations.\n",
      "  warnings.warn(\"Liblinear failed to converge, increase \"\n",
      "C:\\ProgramData\\Anaconda3\\lib\\site-packages\\sklearn\\svm\\_base.py:985: ConvergenceWarning: Liblinear failed to converge, increase the number of iterations.\n",
      "  warnings.warn(\"Liblinear failed to converge, increase \"\n",
      "C:\\ProgramData\\Anaconda3\\lib\\site-packages\\sklearn\\svm\\_base.py:985: ConvergenceWarning: Liblinear failed to converge, increase the number of iterations.\n",
      "  warnings.warn(\"Liblinear failed to converge, increase \"\n",
      "C:\\ProgramData\\Anaconda3\\lib\\site-packages\\sklearn\\svm\\_base.py:985: ConvergenceWarning: Liblinear failed to converge, increase the number of iterations.\n",
      "  warnings.warn(\"Liblinear failed to converge, increase \"\n",
      "C:\\ProgramData\\Anaconda3\\lib\\site-packages\\sklearn\\svm\\_base.py:985: ConvergenceWarning: Liblinear failed to converge, increase the number of iterations.\n",
      "  warnings.warn(\"Liblinear failed to converge, increase \"\n",
      "C:\\ProgramData\\Anaconda3\\lib\\site-packages\\sklearn\\svm\\_base.py:985: ConvergenceWarning: Liblinear failed to converge, increase the number of iterations.\n",
      "  warnings.warn(\"Liblinear failed to converge, increase \"\n",
      "C:\\ProgramData\\Anaconda3\\lib\\site-packages\\sklearn\\svm\\_base.py:985: ConvergenceWarning: Liblinear failed to converge, increase the number of iterations.\n",
      "  warnings.warn(\"Liblinear failed to converge, increase \"\n",
      "C:\\ProgramData\\Anaconda3\\lib\\site-packages\\sklearn\\svm\\_base.py:985: ConvergenceWarning: Liblinear failed to converge, increase the number of iterations.\n",
      "  warnings.warn(\"Liblinear failed to converge, increase \"\n",
      "C:\\ProgramData\\Anaconda3\\lib\\site-packages\\sklearn\\svm\\_base.py:985: ConvergenceWarning: Liblinear failed to converge, increase the number of iterations.\n",
      "  warnings.warn(\"Liblinear failed to converge, increase \"\n",
      "C:\\ProgramData\\Anaconda3\\lib\\site-packages\\sklearn\\svm\\_base.py:985: ConvergenceWarning: Liblinear failed to converge, increase the number of iterations.\n",
      "  warnings.warn(\"Liblinear failed to converge, increase \"\n",
      "C:\\ProgramData\\Anaconda3\\lib\\site-packages\\sklearn\\svm\\_base.py:985: ConvergenceWarning: Liblinear failed to converge, increase the number of iterations.\n",
      "  warnings.warn(\"Liblinear failed to converge, increase \"\n",
      "C:\\ProgramData\\Anaconda3\\lib\\site-packages\\sklearn\\svm\\_base.py:985: ConvergenceWarning: Liblinear failed to converge, increase the number of iterations.\n",
      "  warnings.warn(\"Liblinear failed to converge, increase \"\n",
      "C:\\ProgramData\\Anaconda3\\lib\\site-packages\\sklearn\\svm\\_base.py:985: ConvergenceWarning: Liblinear failed to converge, increase the number of iterations.\n",
      "  warnings.warn(\"Liblinear failed to converge, increase \"\n",
      "C:\\ProgramData\\Anaconda3\\lib\\site-packages\\sklearn\\svm\\_base.py:985: ConvergenceWarning: Liblinear failed to converge, increase the number of iterations.\n",
      "  warnings.warn(\"Liblinear failed to converge, increase \"\n",
      "C:\\ProgramData\\Anaconda3\\lib\\site-packages\\sklearn\\svm\\_base.py:985: ConvergenceWarning: Liblinear failed to converge, increase the number of iterations.\n",
      "  warnings.warn(\"Liblinear failed to converge, increase \"\n",
      "C:\\ProgramData\\Anaconda3\\lib\\site-packages\\sklearn\\svm\\_base.py:985: ConvergenceWarning: Liblinear failed to converge, increase the number of iterations.\n",
      "  warnings.warn(\"Liblinear failed to converge, increase \"\n",
      "C:\\ProgramData\\Anaconda3\\lib\\site-packages\\sklearn\\svm\\_base.py:985: ConvergenceWarning: Liblinear failed to converge, increase the number of iterations.\n",
      "  warnings.warn(\"Liblinear failed to converge, increase \"\n",
      "C:\\ProgramData\\Anaconda3\\lib\\site-packages\\sklearn\\svm\\_base.py:985: ConvergenceWarning: Liblinear failed to converge, increase the number of iterations.\n",
      "  warnings.warn(\"Liblinear failed to converge, increase \"\n",
      "C:\\ProgramData\\Anaconda3\\lib\\site-packages\\sklearn\\svm\\_base.py:985: ConvergenceWarning: Liblinear failed to converge, increase the number of iterations.\n",
      "  warnings.warn(\"Liblinear failed to converge, increase \"\n",
      "C:\\ProgramData\\Anaconda3\\lib\\site-packages\\sklearn\\svm\\_base.py:985: ConvergenceWarning: Liblinear failed to converge, increase the number of iterations.\n",
      "  warnings.warn(\"Liblinear failed to converge, increase \"\n"
     ]
    },
    {
     "name": "stderr",
     "output_type": "stream",
     "text": [
      "C:\\ProgramData\\Anaconda3\\lib\\site-packages\\sklearn\\svm\\_base.py:985: ConvergenceWarning: Liblinear failed to converge, increase the number of iterations.\n",
      "  warnings.warn(\"Liblinear failed to converge, increase \"\n",
      "C:\\ProgramData\\Anaconda3\\lib\\site-packages\\sklearn\\svm\\_base.py:985: ConvergenceWarning: Liblinear failed to converge, increase the number of iterations.\n",
      "  warnings.warn(\"Liblinear failed to converge, increase \"\n",
      "C:\\ProgramData\\Anaconda3\\lib\\site-packages\\sklearn\\svm\\_base.py:985: ConvergenceWarning: Liblinear failed to converge, increase the number of iterations.\n",
      "  warnings.warn(\"Liblinear failed to converge, increase \"\n",
      "C:\\ProgramData\\Anaconda3\\lib\\site-packages\\sklearn\\svm\\_base.py:985: ConvergenceWarning: Liblinear failed to converge, increase the number of iterations.\n",
      "  warnings.warn(\"Liblinear failed to converge, increase \"\n",
      "C:\\ProgramData\\Anaconda3\\lib\\site-packages\\sklearn\\svm\\_base.py:985: ConvergenceWarning: Liblinear failed to converge, increase the number of iterations.\n",
      "  warnings.warn(\"Liblinear failed to converge, increase \"\n",
      "C:\\ProgramData\\Anaconda3\\lib\\site-packages\\sklearn\\svm\\_base.py:985: ConvergenceWarning: Liblinear failed to converge, increase the number of iterations.\n",
      "  warnings.warn(\"Liblinear failed to converge, increase \"\n",
      "C:\\ProgramData\\Anaconda3\\lib\\site-packages\\sklearn\\svm\\_base.py:985: ConvergenceWarning: Liblinear failed to converge, increase the number of iterations.\n",
      "  warnings.warn(\"Liblinear failed to converge, increase \"\n",
      "C:\\ProgramData\\Anaconda3\\lib\\site-packages\\sklearn\\svm\\_base.py:985: ConvergenceWarning: Liblinear failed to converge, increase the number of iterations.\n",
      "  warnings.warn(\"Liblinear failed to converge, increase \"\n",
      "C:\\ProgramData\\Anaconda3\\lib\\site-packages\\sklearn\\svm\\_base.py:985: ConvergenceWarning: Liblinear failed to converge, increase the number of iterations.\n",
      "  warnings.warn(\"Liblinear failed to converge, increase \"\n",
      "C:\\ProgramData\\Anaconda3\\lib\\site-packages\\sklearn\\svm\\_base.py:985: ConvergenceWarning: Liblinear failed to converge, increase the number of iterations.\n",
      "  warnings.warn(\"Liblinear failed to converge, increase \"\n",
      "C:\\ProgramData\\Anaconda3\\lib\\site-packages\\sklearn\\svm\\_base.py:985: ConvergenceWarning: Liblinear failed to converge, increase the number of iterations.\n",
      "  warnings.warn(\"Liblinear failed to converge, increase \"\n",
      "C:\\ProgramData\\Anaconda3\\lib\\site-packages\\sklearn\\svm\\_base.py:985: ConvergenceWarning: Liblinear failed to converge, increase the number of iterations.\n",
      "  warnings.warn(\"Liblinear failed to converge, increase \"\n",
      "C:\\ProgramData\\Anaconda3\\lib\\site-packages\\sklearn\\svm\\_base.py:985: ConvergenceWarning: Liblinear failed to converge, increase the number of iterations.\n",
      "  warnings.warn(\"Liblinear failed to converge, increase \"\n",
      "C:\\ProgramData\\Anaconda3\\lib\\site-packages\\sklearn\\svm\\_base.py:985: ConvergenceWarning: Liblinear failed to converge, increase the number of iterations.\n",
      "  warnings.warn(\"Liblinear failed to converge, increase \"\n",
      "C:\\ProgramData\\Anaconda3\\lib\\site-packages\\sklearn\\svm\\_base.py:985: ConvergenceWarning: Liblinear failed to converge, increase the number of iterations.\n",
      "  warnings.warn(\"Liblinear failed to converge, increase \"\n",
      "C:\\ProgramData\\Anaconda3\\lib\\site-packages\\sklearn\\svm\\_base.py:985: ConvergenceWarning: Liblinear failed to converge, increase the number of iterations.\n",
      "  warnings.warn(\"Liblinear failed to converge, increase \"\n",
      "C:\\ProgramData\\Anaconda3\\lib\\site-packages\\sklearn\\svm\\_base.py:985: ConvergenceWarning: Liblinear failed to converge, increase the number of iterations.\n",
      "  warnings.warn(\"Liblinear failed to converge, increase \"\n",
      "C:\\ProgramData\\Anaconda3\\lib\\site-packages\\sklearn\\svm\\_base.py:985: ConvergenceWarning: Liblinear failed to converge, increase the number of iterations.\n",
      "  warnings.warn(\"Liblinear failed to converge, increase \"\n",
      "C:\\ProgramData\\Anaconda3\\lib\\site-packages\\sklearn\\svm\\_base.py:985: ConvergenceWarning: Liblinear failed to converge, increase the number of iterations.\n",
      "  warnings.warn(\"Liblinear failed to converge, increase \"\n",
      "C:\\ProgramData\\Anaconda3\\lib\\site-packages\\sklearn\\svm\\_base.py:985: ConvergenceWarning: Liblinear failed to converge, increase the number of iterations.\n",
      "  warnings.warn(\"Liblinear failed to converge, increase \"\n",
      "C:\\ProgramData\\Anaconda3\\lib\\site-packages\\sklearn\\svm\\_base.py:985: ConvergenceWarning: Liblinear failed to converge, increase the number of iterations.\n",
      "  warnings.warn(\"Liblinear failed to converge, increase \"\n",
      "C:\\ProgramData\\Anaconda3\\lib\\site-packages\\sklearn\\svm\\_base.py:985: ConvergenceWarning: Liblinear failed to converge, increase the number of iterations.\n",
      "  warnings.warn(\"Liblinear failed to converge, increase \"\n"
     ]
    },
    {
     "name": "stdout",
     "output_type": "stream",
     "text": [
      "Best parameters {'C': 0.006158482110660267}\n",
      "Best score 0.3614200150364047\n"
     ]
    },
    {
     "name": "stderr",
     "output_type": "stream",
     "text": [
      "C:\\ProgramData\\Anaconda3\\lib\\site-packages\\sklearn\\svm\\_base.py:985: ConvergenceWarning: Liblinear failed to converge, increase the number of iterations.\n",
      "  warnings.warn(\"Liblinear failed to converge, increase \"\n"
     ]
    }
   ],
   "source": [
    "from sklearn.svm import LinearSVC, SVC\n",
    "svm = LinearSVC(max_iter = 5000)\n",
    "gridsvm = {'C': np.logspace(-3,0,20)}\n",
    "svm_grid = GridSearchCV(svm, gridsvm, scoring='f1', return_train_score = True)\n",
    "svm_grid.fit(X_train, y_train)\n",
    "print('Best parameters', svm_grid.best_params_)\n",
    "print('Best score', svm_grid.best_score_)"
   ]
  },
  {
   "cell_type": "code",
   "execution_count": 16,
   "id": "ffeefa28",
   "metadata": {},
   "outputs": [],
   "source": [
    "cv_results_svm = pd.DataFrame(svm_grid.cv_results_)"
   ]
  },
  {
   "cell_type": "code",
   "execution_count": 19,
   "id": "490040aa",
   "metadata": {},
   "outputs": [
    {
     "data": {
      "image/png": "[encoded data removed]",
      "text/plain": [
       "<Figure size 1152x720 with 1 Axes>"
      ]
     },
     "metadata": {
      "needs_background": "light"
     },
     "output_type": "display_data"
    }
   ],
   "source": [
    "plt.figure(figsize=(16, 10))\n",
    "plt.title(\"GridSearchCV evaluating SVM (Linear SVC)\", fontsize=16)\n",
    "\n",
    "plt.xlabel(\"Parametr C\", fontsize=14)\n",
    "plt.ylabel(\"F1 Score\", fontsize=14)\n",
    "\n",
    "ax = plt.gca()\n",
    "ax.set_xlim(0, 1)\n",
    "ax.set_ylim(0.0, 0.5)\n",
    "\n",
    "X_axis = cv_results_svm[\"param_C\"]\n",
    "Y_axis = cv_results_svm['mean_train_score']\n",
    "Y2_axis = cv_results_svm[\"mean_test_score\"]\n",
    "Y3_axis_min = Y_axis - cv_results_svm['std_train_score']\n",
    "Y3_axis_max = Y_axis + cv_results_svm['std_train_score']\n",
    "Y4_axis_min = Y2_axis - cv_results_svm['std_test_score']\n",
    "Y4_axis_max = Y2_axis + cv_results_svm['std_test_score']\n",
    "ax.plot(X_axis, Y_axis,color='deepskyblue', label = 'auc_train_mean')\n",
    "ax.fill_between(list(X_axis), list(Y3_axis_min), list(Y3_axis_max), color='lightcoral', label = 'std error on train data')\n",
    "\n",
    "ax.plot(X_axis, Y2_axis, color = 'lime', label = 'auc_test_mean')\n",
    "ax.fill_between(list(X_axis), list(Y4_axis_min), list(Y4_axis_max), color='pink',  label = 'std error on test data')\n",
    "ax.grid()\n",
    "ax.set_facecolor('gainsboro')\n",
    "plt.legend(loc=\"best\")\n",
    "plt.show()"
   ]
  },
  {
   "cell_type": "code",
   "execution_count": 48,
   "id": "f30d395a",
   "metadata": {},
   "outputs": [
    {
     "data": {
      "image/png": "[encoded data removed]",
      "text/plain": [
       "<Figure size 1152x720 with 1 Axes>"
      ]
     },
     "metadata": {
      "needs_background": "light"
     },
     "output_type": "display_data"
    }
   ],
   "source": [
    "data = X_train\n",
    "fig, ax = plt.subplots(figsize=(16, 10))\n",
    "ax.boxplot(data, labels = ('age', 'fnlwgt', 'education-num', 'capital-gain', 'capital-loss', 'hours-per-week'))\n",
    "plt.xlabel(\"Вещественные признаки\", fontsize=14)\n",
    "plt.show()"
   ]
  },
  {
   "cell_type": "code",
   "execution_count": 35,
   "id": "56fc9f1c",
   "metadata": {},
   "outputs": [
    {
     "data": {
      "text/html": [
       "<div>\n",
       "<style scoped>\n",
       "    .dataframe tbody tr th:only-of-type {\n",
       "        vertical-align: middle;\n",
       "    }\n",
       "\n",
       "    .dataframe tbody tr th {\n",
       "        vertical-align: top;\n",
       "    }\n",
       "\n",
       "    .dataframe thead th {\n",
       "        text-align: right;\n",
       "    }\n",
       "</style>\n",
       "<table border=\"1\" class=\"dataframe\">\n",
       "  <thead>\n",
       "    <tr style=\"text-align: right;\">\n",
       "      <th></th>\n",
       "      <th>age</th>\n",
       "      <th>fnlwgt</th>\n",
       "      <th>education-num</th>\n",
       "      <th>capital-gain</th>\n",
       "      <th>capital-loss</th>\n",
       "      <th>hours-per-week</th>\n",
       "    </tr>\n",
       "  </thead>\n",
       "  <tbody>\n",
       "    <tr>\n",
       "      <th>count</th>\n",
       "      <td>11510.000000</td>\n",
       "      <td>1.151000e+04</td>\n",
       "      <td>11510.000000</td>\n",
       "      <td>11510.000000</td>\n",
       "      <td>11510.00000</td>\n",
       "      <td>11510.000000</td>\n",
       "    </tr>\n",
       "    <tr>\n",
       "      <th>mean</th>\n",
       "      <td>38.574978</td>\n",
       "      <td>1.895727e+05</td>\n",
       "      <td>10.151955</td>\n",
       "      <td>960.058123</td>\n",
       "      <td>87.20808</td>\n",
       "      <td>40.888705</td>\n",
       "    </tr>\n",
       "    <tr>\n",
       "      <th>std</th>\n",
       "      <td>13.131313</td>\n",
       "      <td>1.075605e+05</td>\n",
       "      <td>2.541843</td>\n",
       "      <td>6324.819782</td>\n",
       "      <td>403.03413</td>\n",
       "      <td>12.058429</td>\n",
       "    </tr>\n",
       "    <tr>\n",
       "      <th>min</th>\n",
       "      <td>17.000000</td>\n",
       "      <td>1.930200e+04</td>\n",
       "      <td>1.000000</td>\n",
       "      <td>0.000000</td>\n",
       "      <td>0.00000</td>\n",
       "      <td>1.000000</td>\n",
       "    </tr>\n",
       "    <tr>\n",
       "      <th>25%</th>\n",
       "      <td>28.000000</td>\n",
       "      <td>1.166405e+05</td>\n",
       "      <td>9.000000</td>\n",
       "      <td>0.000000</td>\n",
       "      <td>0.00000</td>\n",
       "      <td>40.000000</td>\n",
       "    </tr>\n",
       "    <tr>\n",
       "      <th>50%</th>\n",
       "      <td>37.000000</td>\n",
       "      <td>1.777300e+05</td>\n",
       "      <td>10.000000</td>\n",
       "      <td>0.000000</td>\n",
       "      <td>0.00000</td>\n",
       "      <td>40.000000</td>\n",
       "    </tr>\n",
       "    <tr>\n",
       "      <th>75%</th>\n",
       "      <td>47.000000</td>\n",
       "      <td>2.368262e+05</td>\n",
       "      <td>13.000000</td>\n",
       "      <td>0.000000</td>\n",
       "      <td>0.00000</td>\n",
       "      <td>45.000000</td>\n",
       "    </tr>\n",
       "    <tr>\n",
       "      <th>max</th>\n",
       "      <td>90.000000</td>\n",
       "      <td>1.484705e+06</td>\n",
       "      <td>16.000000</td>\n",
       "      <td>99999.000000</td>\n",
       "      <td>3900.00000</td>\n",
       "      <td>99.000000</td>\n",
       "    </tr>\n",
       "  </tbody>\n",
       "</table>\n",
       "</div>"
      ],
      "text/plain": [
       "                age        fnlwgt  education-num  capital-gain  capital-loss  \\\n",
       "count  11510.000000  1.151000e+04   11510.000000  11510.000000   11510.00000   \n",
       "mean      38.574978  1.895727e+05      10.151955    960.058123      87.20808   \n",
       "std       13.131313  1.075605e+05       2.541843   6324.819782     403.03413   \n",
       "min       17.000000  1.930200e+04       1.000000      0.000000       0.00000   \n",
       "25%       28.000000  1.166405e+05       9.000000      0.000000       0.00000   \n",
       "50%       37.000000  1.777300e+05      10.000000      0.000000       0.00000   \n",
       "75%       47.000000  2.368262e+05      13.000000      0.000000       0.00000   \n",
       "max       90.000000  1.484705e+06      16.000000  99999.000000    3900.00000   \n",
       "\n",
       "       hours-per-week  \n",
       "count    11510.000000  \n",
       "mean        40.888705  \n",
       "std         12.058429  \n",
       "min          1.000000  \n",
       "25%         40.000000  \n",
       "50%         40.000000  \n",
       "75%         45.000000  \n",
       "max         99.000000  "
      ]
     },
     "execution_count": 35,
     "metadata": {},
     "output_type": "execute_result"
    }
   ],
   "source": [
    "X_train.describe()"
   ]
  },
  {
   "cell_type": "markdown",
   "id": "2b5678dd",
   "metadata": {},
   "source": [
    "Значения вещественных признаков в датасете сильно отличаются. Наиболее выделяется признак fnlwgt, которые отличается от других (особенно возраста) на несколько порядков."
   ]
  },
  {
   "cell_type": "code",
   "execution_count": 13,
   "id": "99e16a54",
   "metadata": {},
   "outputs": [],
   "source": [
    "from sklearn.preprocessing import MinMaxScaler"
   ]
  },
  {
   "cell_type": "code",
   "execution_count": 14,
   "id": "48a0854a",
   "metadata": {},
   "outputs": [],
   "source": [
    "scaler = MinMaxScaler()\n",
    "X_train_sc = scaler.fit_transform(X_train)"
   ]
  },
  {
   "cell_type": "code",
   "execution_count": 15,
   "id": "c89b19ff",
   "metadata": {},
   "outputs": [],
   "source": [
    "X_test_sc = scaler.transform(X_test)"
   ]
  },
  {
   "cell_type": "code",
   "execution_count": 54,
   "id": "45896491",
   "metadata": {},
   "outputs": [
    {
     "name": "stdout",
     "output_type": "stream",
     "text": [
      "Best parameters {'n_neighbors': 11, 'p': 2}\n",
      "Best score 0.5370865178328712\n"
     ]
    }
   ],
   "source": [
    "knn = KNeighborsClassifier()\n",
    "gridknn = {'n_neighbors': np.linspace(1,50,50, dtype=int), 'p':[1, 2]}\n",
    "knn_grid = GridSearchCV(knn, gridknn, scoring='f1', return_train_score = True)\n",
    "knn_grid.fit(X_train_sc, y_train)\n",
    "print('Best parameters', knn_grid.best_params_)\n",
    "print('Best score', knn_grid.best_score_)"
   ]
  },
  {
   "cell_type": "code",
   "execution_count": 55,
   "id": "1ece5794",
   "metadata": {},
   "outputs": [
    {
     "name": "stdout",
     "output_type": "stream",
     "text": [
      "Best parameters {'C': 41.246263829013564, 'penalty': 'l1'}\n",
      "Best score 0.5097995276089693\n"
     ]
    }
   ],
   "source": [
    "logreg = LogisticRegression(solver= 'liblinear')\n",
    "gridlogreg = {'C': np.logspace(-3,3,40), 'penalty':['l1', 'l2']}\n",
    "logreg_grid = GridSearchCV(logreg, gridlogreg, scoring='f1', return_train_score = True)\n",
    "logreg_grid.fit(X_train_sc, y_train)\n",
    "print('Best parameters', logreg_grid.best_params_)\n",
    "print('Best score', logreg_grid.best_score_)"
   ]
  },
  {
   "cell_type": "code",
   "execution_count": 56,
   "id": "d83ccce6",
   "metadata": {},
   "outputs": [
    {
     "name": "stdout",
     "output_type": "stream",
     "text": [
      "Best parameters {'criterion': 'gini', 'max_depth': 3}\n",
      "Best score 0.5797208276677696\n"
     ]
    }
   ],
   "source": [
    "dectree = DecisionTreeClassifier(random_state = 13)\n",
    "griddectree = {'max_depth': np.linspace(1,50,50, dtype=int), 'criterion':['gini', 'entropy']}\n",
    "dectree_grid = GridSearchCV(dectree, griddectree, scoring='f1', return_train_score = True)\n",
    "dectree_grid.fit(X_train_sc, y_train)\n",
    "print('Best parameters', dectree_grid.best_params_)\n",
    "print('Best score', dectree_grid.best_score_)"
   ]
  },
  {
   "cell_type": "code",
   "execution_count": 57,
   "id": "74f85aa8",
   "metadata": {},
   "outputs": [
    {
     "name": "stdout",
     "output_type": "stream",
     "text": [
      "Best parameters {'C': 1.0}\n",
      "Best score 0.4716024591304066\n"
     ]
    }
   ],
   "source": [
    "from sklearn.svm import LinearSVC, SVC\n",
    "svm = LinearSVC(max_iter = 5000)\n",
    "gridsvm = {'C': np.logspace(-3,0,20)}\n",
    "svm_grid = GridSearchCV(svm, gridsvm, scoring='f1', return_train_score = True)\n",
    "svm_grid.fit(X_train_sc, y_train)\n",
    "print('Best parameters', svm_grid.best_params_)\n",
    "print('Best score', svm_grid.best_score_)"
   ]
  },
  {
   "cell_type": "code",
   "execution_count": 17,
   "id": "6c7b87f3",
   "metadata": {},
   "outputs": [],
   "source": [
    "X_train_scal = pd.DataFrame(X_train_sc, columns=list(X_train.columns.values), index=list(X_train.index))"
   ]
  },
  {
   "cell_type": "code",
   "execution_count": 18,
   "id": "65cfbd4b",
   "metadata": {},
   "outputs": [],
   "source": [
    "data_adult_6 = data_adult_5.select_dtypes(include = 'object')"
   ]
  },
  {
   "cell_type": "code",
   "execution_count": 19,
   "id": "e8972a27",
   "metadata": {},
   "outputs": [],
   "source": [
    "from sklearn.preprocessing import OneHotEncoder\n",
    "dummies = OneHotEncoder(sparse=False)\n",
    "data_dummies = dummies.fit_transform(data_adult_6)\n",
    "dataframe_dummies = pd.DataFrame(data_dummies, index=list(data_adult_6.index))\n",
    "dataframe_dummies_concat = pd.concat([data_adult_6, dataframe_dummies], axis=1)"
   ]
  },
  {
   "cell_type": "code",
   "execution_count": 20,
   "id": "8e19d1ac",
   "metadata": {},
   "outputs": [],
   "source": [
    "dataframe_dummies_categorial = dataframe_dummies_concat.select_dtypes(exclude = 'object')"
   ]
  },
  {
   "cell_type": "code",
   "execution_count": 21,
   "id": "0c65e17b",
   "metadata": {},
   "outputs": [],
   "source": [
    "X_train_scal['ind'] = X_train_scal.index"
   ]
  },
  {
   "cell_type": "code",
   "execution_count": 22,
   "id": "daf77b86",
   "metadata": {},
   "outputs": [
    {
     "name": "stderr",
     "output_type": "stream",
     "text": [
      "C:\\Users\\SASHA\\AppData\\Local\\Temp/ipykernel_7236/572818438.py:1: SettingWithCopyWarning: \n",
      "A value is trying to be set on a copy of a slice from a DataFrame.\n",
      "Try using .loc[row_indexer,col_indexer] = value instead\n",
      "\n",
      "See the caveats in the documentation: https://pandas.pydata.org/pandas-docs/stable/user_guide/indexing.html#returning-a-view-versus-a-copy\n",
      "  dataframe_dummies_categorial['ind'] = dataframe_dummies_categorial.index\n"
     ]
    }
   ],
   "source": [
    "dataframe_dummies_categorial['ind'] = dataframe_dummies_categorial.index"
   ]
  },
  {
   "cell_type": "code",
   "execution_count": 23,
   "id": "cf466d30",
   "metadata": {},
   "outputs": [],
   "source": [
    "x_train_scal_categ = pd.merge(X_train_scal, dataframe_dummies_categorial, how = 'inner', on ='ind')"
   ]
  },
  {
   "cell_type": "code",
   "execution_count": 24,
   "id": "a376562c",
   "metadata": {},
   "outputs": [],
   "source": [
    "x_train_scal_categ.index = list(x_train_scal_categ['ind'])"
   ]
  },
  {
   "cell_type": "code",
   "execution_count": 25,
   "id": "4bb92a51",
   "metadata": {},
   "outputs": [],
   "source": [
    "x_train_scal_categ_fin = x_train_scal_categ.drop(columns = ['ind'])"
   ]
  },
  {
   "cell_type": "code",
   "execution_count": 26,
   "id": "be8ca794",
   "metadata": {},
   "outputs": [
    {
     "name": "stderr",
     "output_type": "stream",
     "text": [
      "C:\\Users\\SASHA\\AppData\\Local\\Temp/ipykernel_7236/3079315040.py:1: SettingWithCopyWarning: \n",
      "A value is trying to be set on a copy of a slice from a DataFrame.\n",
      "Try using .loc[row_indexer,col_indexer] = value instead\n",
      "\n",
      "See the caveats in the documentation: https://pandas.pydata.org/pandas-docs/stable/user_guide/indexing.html#returning-a-view-versus-a-copy\n",
      "  X_test['ind'] = X_test.index\n"
     ]
    }
   ],
   "source": [
    "X_test['ind'] = X_test.index"
   ]
  },
  {
   "cell_type": "code",
   "execution_count": 27,
   "id": "9a19b1db",
   "metadata": {},
   "outputs": [],
   "source": [
    "x_test_fin = pd.merge(X_test, dataframe_dummies_categorial, how = 'inner', on ='ind')"
   ]
  },
  {
   "cell_type": "code",
   "execution_count": 28,
   "id": "9ff2c317",
   "metadata": {},
   "outputs": [],
   "source": [
    "x_test_fin.index = list(x_test_fin['ind'])"
   ]
  },
  {
   "cell_type": "code",
   "execution_count": 29,
   "id": "7346589d",
   "metadata": {},
   "outputs": [],
   "source": [
    "x_test_final = x_test_fin.drop(columns = ['ind'])"
   ]
  },
  {
   "cell_type": "code",
   "execution_count": 30,
   "id": "0e9c3eb5",
   "metadata": {},
   "outputs": [
    {
     "data": {
      "text/html": [
       "<div>\n",
       "<style scoped>\n",
       "    .dataframe tbody tr th:only-of-type {\n",
       "        vertical-align: middle;\n",
       "    }\n",
       "\n",
       "    .dataframe tbody tr th {\n",
       "        vertical-align: top;\n",
       "    }\n",
       "\n",
       "    .dataframe thead th {\n",
       "        text-align: right;\n",
       "    }\n",
       "</style>\n",
       "<table border=\"1\" class=\"dataframe\">\n",
       "  <thead>\n",
       "    <tr style=\"text-align: right;\">\n",
       "      <th></th>\n",
       "      <th>age</th>\n",
       "      <th>fnlwgt</th>\n",
       "      <th>education-num</th>\n",
       "      <th>capital-gain</th>\n",
       "      <th>capital-loss</th>\n",
       "      <th>hours-per-week</th>\n",
       "      <th>0</th>\n",
       "      <th>1</th>\n",
       "      <th>2</th>\n",
       "      <th>3</th>\n",
       "      <th>...</th>\n",
       "      <th>47</th>\n",
       "      <th>48</th>\n",
       "      <th>49</th>\n",
       "      <th>50</th>\n",
       "      <th>51</th>\n",
       "      <th>52</th>\n",
       "      <th>53</th>\n",
       "      <th>54</th>\n",
       "      <th>55</th>\n",
       "      <th>56</th>\n",
       "    </tr>\n",
       "  </thead>\n",
       "  <tbody>\n",
       "    <tr>\n",
       "      <th>2516</th>\n",
       "      <td>44</td>\n",
       "      <td>145246</td>\n",
       "      <td>14</td>\n",
       "      <td>0</td>\n",
       "      <td>0</td>\n",
       "      <td>44</td>\n",
       "      <td>0.0</td>\n",
       "      <td>1.0</td>\n",
       "      <td>0.0</td>\n",
       "      <td>0.0</td>\n",
       "      <td>...</td>\n",
       "      <td>0.0</td>\n",
       "      <td>0.0</td>\n",
       "      <td>0.0</td>\n",
       "      <td>0.0</td>\n",
       "      <td>0.0</td>\n",
       "      <td>0.0</td>\n",
       "      <td>0.0</td>\n",
       "      <td>1.0</td>\n",
       "      <td>0.0</td>\n",
       "      <td>1.0</td>\n",
       "    </tr>\n",
       "    <tr>\n",
       "      <th>12352</th>\n",
       "      <td>38</td>\n",
       "      <td>338320</td>\n",
       "      <td>15</td>\n",
       "      <td>0</td>\n",
       "      <td>1977</td>\n",
       "      <td>50</td>\n",
       "      <td>1.0</td>\n",
       "      <td>0.0</td>\n",
       "      <td>0.0</td>\n",
       "      <td>0.0</td>\n",
       "      <td>...</td>\n",
       "      <td>0.0</td>\n",
       "      <td>0.0</td>\n",
       "      <td>0.0</td>\n",
       "      <td>0.0</td>\n",
       "      <td>0.0</td>\n",
       "      <td>0.0</td>\n",
       "      <td>0.0</td>\n",
       "      <td>1.0</td>\n",
       "      <td>0.0</td>\n",
       "      <td>1.0</td>\n",
       "    </tr>\n",
       "    <tr>\n",
       "      <th>9794</th>\n",
       "      <td>51</td>\n",
       "      <td>174754</td>\n",
       "      <td>9</td>\n",
       "      <td>0</td>\n",
       "      <td>0</td>\n",
       "      <td>38</td>\n",
       "      <td>0.0</td>\n",
       "      <td>0.0</td>\n",
       "      <td>1.0</td>\n",
       "      <td>0.0</td>\n",
       "      <td>...</td>\n",
       "      <td>0.0</td>\n",
       "      <td>0.0</td>\n",
       "      <td>0.0</td>\n",
       "      <td>0.0</td>\n",
       "      <td>0.0</td>\n",
       "      <td>1.0</td>\n",
       "      <td>0.0</td>\n",
       "      <td>0.0</td>\n",
       "      <td>1.0</td>\n",
       "      <td>0.0</td>\n",
       "    </tr>\n",
       "    <tr>\n",
       "      <th>3269</th>\n",
       "      <td>45</td>\n",
       "      <td>172960</td>\n",
       "      <td>10</td>\n",
       "      <td>0</td>\n",
       "      <td>0</td>\n",
       "      <td>70</td>\n",
       "      <td>0.0</td>\n",
       "      <td>0.0</td>\n",
       "      <td>1.0</td>\n",
       "      <td>0.0</td>\n",
       "      <td>...</td>\n",
       "      <td>0.0</td>\n",
       "      <td>0.0</td>\n",
       "      <td>0.0</td>\n",
       "      <td>0.0</td>\n",
       "      <td>0.0</td>\n",
       "      <td>0.0</td>\n",
       "      <td>0.0</td>\n",
       "      <td>1.0</td>\n",
       "      <td>0.0</td>\n",
       "      <td>1.0</td>\n",
       "    </tr>\n",
       "    <tr>\n",
       "      <th>9043</th>\n",
       "      <td>49</td>\n",
       "      <td>66385</td>\n",
       "      <td>9</td>\n",
       "      <td>5013</td>\n",
       "      <td>0</td>\n",
       "      <td>40</td>\n",
       "      <td>0.0</td>\n",
       "      <td>0.0</td>\n",
       "      <td>1.0</td>\n",
       "      <td>0.0</td>\n",
       "      <td>...</td>\n",
       "      <td>0.0</td>\n",
       "      <td>0.0</td>\n",
       "      <td>0.0</td>\n",
       "      <td>0.0</td>\n",
       "      <td>0.0</td>\n",
       "      <td>0.0</td>\n",
       "      <td>0.0</td>\n",
       "      <td>1.0</td>\n",
       "      <td>0.0</td>\n",
       "      <td>1.0</td>\n",
       "    </tr>\n",
       "  </tbody>\n",
       "</table>\n",
       "<p>5 rows × 63 columns</p>\n",
       "</div>"
      ],
      "text/plain": [
       "       age  fnlwgt  education-num  capital-gain  capital-loss  hours-per-week  \\\n",
       "2516    44  145246             14             0             0              44   \n",
       "12352   38  338320             15             0          1977              50   \n",
       "9794    51  174754              9             0             0              38   \n",
       "3269    45  172960             10             0             0              70   \n",
       "9043    49   66385              9          5013             0              40   \n",
       "\n",
       "         0    1    2    3  ...   47   48   49   50   51   52   53   54   55  \\\n",
       "2516   0.0  1.0  0.0  0.0  ...  0.0  0.0  0.0  0.0  0.0  0.0  0.0  1.0  0.0   \n",
       "12352  1.0  0.0  0.0  0.0  ...  0.0  0.0  0.0  0.0  0.0  0.0  0.0  1.0  0.0   \n",
       "9794   0.0  0.0  1.0  0.0  ...  0.0  0.0  0.0  0.0  0.0  1.0  0.0  0.0  1.0   \n",
       "3269   0.0  0.0  1.0  0.0  ...  0.0  0.0  0.0  0.0  0.0  0.0  0.0  1.0  0.0   \n",
       "9043   0.0  0.0  1.0  0.0  ...  0.0  0.0  0.0  0.0  0.0  0.0  0.0  1.0  0.0   \n",
       "\n",
       "        56  \n",
       "2516   1.0  \n",
       "12352  1.0  \n",
       "9794   0.0  \n",
       "3269   1.0  \n",
       "9043   1.0  \n",
       "\n",
       "[5 rows x 63 columns]"
      ]
     },
     "execution_count": 30,
     "metadata": {},
     "output_type": "execute_result"
    }
   ],
   "source": [
    "x_test_final.head()"
   ]
  },
  {
   "cell_type": "code",
   "execution_count": 45,
   "id": "eefc581a",
   "metadata": {},
   "outputs": [],
   "source": [
    "x_test_final_scal = scaler.transform(x_test_final)"
   ]
  },
  {
   "cell_type": "code",
   "execution_count": 46,
   "id": "aaa48b75",
   "metadata": {},
   "outputs": [],
   "source": [
    "x_test_final_sc = pd.DataFrame(x_test_final_scal, columns=list(x_test_final.columns.values), index=list(x_test_final.index))"
   ]
  },
  {
   "cell_type": "code",
   "execution_count": 47,
   "id": "56e2b171",
   "metadata": {},
   "outputs": [
    {
     "data": {
      "text/html": [
       "<div>\n",
       "<style scoped>\n",
       "    .dataframe tbody tr th:only-of-type {\n",
       "        vertical-align: middle;\n",
       "    }\n",
       "\n",
       "    .dataframe tbody tr th {\n",
       "        vertical-align: top;\n",
       "    }\n",
       "\n",
       "    .dataframe thead th {\n",
       "        text-align: right;\n",
       "    }\n",
       "</style>\n",
       "<table border=\"1\" class=\"dataframe\">\n",
       "  <thead>\n",
       "    <tr style=\"text-align: right;\">\n",
       "      <th></th>\n",
       "      <th>age</th>\n",
       "      <th>fnlwgt</th>\n",
       "      <th>education-num</th>\n",
       "      <th>capital-gain</th>\n",
       "      <th>capital-loss</th>\n",
       "      <th>hours-per-week</th>\n",
       "      <th>0</th>\n",
       "      <th>1</th>\n",
       "      <th>2</th>\n",
       "      <th>3</th>\n",
       "      <th>...</th>\n",
       "      <th>47</th>\n",
       "      <th>48</th>\n",
       "      <th>49</th>\n",
       "      <th>50</th>\n",
       "      <th>51</th>\n",
       "      <th>52</th>\n",
       "      <th>53</th>\n",
       "      <th>54</th>\n",
       "      <th>55</th>\n",
       "      <th>56</th>\n",
       "    </tr>\n",
       "  </thead>\n",
       "  <tbody>\n",
       "    <tr>\n",
       "      <th>2516</th>\n",
       "      <td>0.369863</td>\n",
       "      <td>0.104320</td>\n",
       "      <td>0.866667</td>\n",
       "      <td>0.000000</td>\n",
       "      <td>0.000000</td>\n",
       "      <td>0.438776</td>\n",
       "      <td>0.0</td>\n",
       "      <td>1.0</td>\n",
       "      <td>0.0</td>\n",
       "      <td>0.0</td>\n",
       "      <td>...</td>\n",
       "      <td>0.0</td>\n",
       "      <td>0.0</td>\n",
       "      <td>0.0</td>\n",
       "      <td>0.0</td>\n",
       "      <td>0.0</td>\n",
       "      <td>0.0</td>\n",
       "      <td>0.0</td>\n",
       "      <td>1.0</td>\n",
       "      <td>0.0</td>\n",
       "      <td>1.0</td>\n",
       "    </tr>\n",
       "    <tr>\n",
       "      <th>12352</th>\n",
       "      <td>0.287671</td>\n",
       "      <td>0.264245</td>\n",
       "      <td>0.933333</td>\n",
       "      <td>0.000000</td>\n",
       "      <td>0.658123</td>\n",
       "      <td>0.500000</td>\n",
       "      <td>1.0</td>\n",
       "      <td>0.0</td>\n",
       "      <td>0.0</td>\n",
       "      <td>0.0</td>\n",
       "      <td>...</td>\n",
       "      <td>0.0</td>\n",
       "      <td>0.0</td>\n",
       "      <td>0.0</td>\n",
       "      <td>0.0</td>\n",
       "      <td>0.0</td>\n",
       "      <td>0.0</td>\n",
       "      <td>0.0</td>\n",
       "      <td>1.0</td>\n",
       "      <td>0.0</td>\n",
       "      <td>1.0</td>\n",
       "    </tr>\n",
       "    <tr>\n",
       "      <th>9794</th>\n",
       "      <td>0.465753</td>\n",
       "      <td>0.128762</td>\n",
       "      <td>0.533333</td>\n",
       "      <td>0.000000</td>\n",
       "      <td>0.000000</td>\n",
       "      <td>0.377551</td>\n",
       "      <td>0.0</td>\n",
       "      <td>0.0</td>\n",
       "      <td>1.0</td>\n",
       "      <td>0.0</td>\n",
       "      <td>...</td>\n",
       "      <td>0.0</td>\n",
       "      <td>0.0</td>\n",
       "      <td>0.0</td>\n",
       "      <td>0.0</td>\n",
       "      <td>0.0</td>\n",
       "      <td>1.0</td>\n",
       "      <td>0.0</td>\n",
       "      <td>0.0</td>\n",
       "      <td>1.0</td>\n",
       "      <td>0.0</td>\n",
       "    </tr>\n",
       "    <tr>\n",
       "      <th>3269</th>\n",
       "      <td>0.383562</td>\n",
       "      <td>0.127276</td>\n",
       "      <td>0.600000</td>\n",
       "      <td>0.000000</td>\n",
       "      <td>0.000000</td>\n",
       "      <td>0.704082</td>\n",
       "      <td>0.0</td>\n",
       "      <td>0.0</td>\n",
       "      <td>1.0</td>\n",
       "      <td>0.0</td>\n",
       "      <td>...</td>\n",
       "      <td>0.0</td>\n",
       "      <td>0.0</td>\n",
       "      <td>0.0</td>\n",
       "      <td>0.0</td>\n",
       "      <td>0.0</td>\n",
       "      <td>0.0</td>\n",
       "      <td>0.0</td>\n",
       "      <td>1.0</td>\n",
       "      <td>0.0</td>\n",
       "      <td>1.0</td>\n",
       "    </tr>\n",
       "    <tr>\n",
       "      <th>9043</th>\n",
       "      <td>0.438356</td>\n",
       "      <td>0.038999</td>\n",
       "      <td>0.533333</td>\n",
       "      <td>0.050131</td>\n",
       "      <td>0.000000</td>\n",
       "      <td>0.397959</td>\n",
       "      <td>0.0</td>\n",
       "      <td>0.0</td>\n",
       "      <td>1.0</td>\n",
       "      <td>0.0</td>\n",
       "      <td>...</td>\n",
       "      <td>0.0</td>\n",
       "      <td>0.0</td>\n",
       "      <td>0.0</td>\n",
       "      <td>0.0</td>\n",
       "      <td>0.0</td>\n",
       "      <td>0.0</td>\n",
       "      <td>0.0</td>\n",
       "      <td>1.0</td>\n",
       "      <td>0.0</td>\n",
       "      <td>1.0</td>\n",
       "    </tr>\n",
       "  </tbody>\n",
       "</table>\n",
       "<p>5 rows × 63 columns</p>\n",
       "</div>"
      ],
      "text/plain": [
       "            age    fnlwgt  education-num  capital-gain  capital-loss  \\\n",
       "2516   0.369863  0.104320       0.866667      0.000000      0.000000   \n",
       "12352  0.287671  0.264245       0.933333      0.000000      0.658123   \n",
       "9794   0.465753  0.128762       0.533333      0.000000      0.000000   \n",
       "3269   0.383562  0.127276       0.600000      0.000000      0.000000   \n",
       "9043   0.438356  0.038999       0.533333      0.050131      0.000000   \n",
       "\n",
       "       hours-per-week    0    1    2    3  ...   47   48   49   50   51   52  \\\n",
       "2516         0.438776  0.0  1.0  0.0  0.0  ...  0.0  0.0  0.0  0.0  0.0  0.0   \n",
       "12352        0.500000  1.0  0.0  0.0  0.0  ...  0.0  0.0  0.0  0.0  0.0  0.0   \n",
       "9794         0.377551  0.0  0.0  1.0  0.0  ...  0.0  0.0  0.0  0.0  0.0  1.0   \n",
       "3269         0.704082  0.0  0.0  1.0  0.0  ...  0.0  0.0  0.0  0.0  0.0  0.0   \n",
       "9043         0.397959  0.0  0.0  1.0  0.0  ...  0.0  0.0  0.0  0.0  0.0  0.0   \n",
       "\n",
       "        53   54   55   56  \n",
       "2516   0.0  1.0  0.0  1.0  \n",
       "12352  0.0  1.0  0.0  1.0  \n",
       "9794   0.0  0.0  1.0  0.0  \n",
       "3269   0.0  1.0  0.0  1.0  \n",
       "9043   0.0  1.0  0.0  1.0  \n",
       "\n",
       "[5 rows x 63 columns]"
      ]
     },
     "execution_count": 47,
     "metadata": {},
     "output_type": "execute_result"
    }
   ],
   "source": [
    "x_test_final_sc.head()"
   ]
  },
  {
   "cell_type": "markdown",
   "id": "72ae4050",
   "metadata": {},
   "source": [
    "### KNN"
   ]
  },
  {
   "cell_type": "code",
   "execution_count": 40,
   "id": "f893a90d",
   "metadata": {},
   "outputs": [],
   "source": [
    "from sklearn import metrics\n",
    "from sklearn.model_selection import cross_val_score\n",
    "from sklearn.metrics import f1_score"
   ]
  },
  {
   "cell_type": "code",
   "execution_count": 41,
   "id": "82bf0cef",
   "metadata": {},
   "outputs": [],
   "source": [
    "knn = KNeighborsClassifier(n_neighbors = 11, p = 1)\n",
    "knn_score = cross_val_score(knn, x_train_scal_categ_fin, y_train, cv=5, scoring = 'f1')"
   ]
  },
  {
   "cell_type": "code",
   "execution_count": 180,
   "id": "c14582ef",
   "metadata": {},
   "outputs": [
    {
     "name": "stdout",
     "output_type": "stream",
     "text": [
      "Средний f1-score на тесте: 0.6259199420216777\n"
     ]
    }
   ],
   "source": [
    "print('Средний f1-score на трейне:', np.mean(knn_score))"
   ]
  },
  {
   "cell_type": "code",
   "execution_count": 42,
   "id": "7e4fa354",
   "metadata": {},
   "outputs": [
    {
     "data": {
      "text/plain": [
       "KNeighborsClassifier(n_neighbors=11, p=1)"
      ]
     },
     "execution_count": 42,
     "metadata": {},
     "output_type": "execute_result"
    }
   ],
   "source": [
    "knn.fit(x_train_scal_categ_fin, y_train)"
   ]
  },
  {
   "cell_type": "code",
   "execution_count": 206,
   "id": "698818f3",
   "metadata": {},
   "outputs": [],
   "source": [
    "y_pred = knn.predict(x_test_final)"
   ]
  },
  {
   "cell_type": "code",
   "execution_count": 208,
   "id": "39d8d445",
   "metadata": {},
   "outputs": [
    {
     "name": "stdout",
     "output_type": "stream",
     "text": [
      "Средний f1-score на тесте: 0.6330586524478914\n"
     ]
    }
   ],
   "source": [
    "print('Средний f1-score на тесте:', f1_score(y_test, y_pred))"
   ]
  },
  {
   "cell_type": "code",
   "execution_count": 48,
   "id": "f205bc24",
   "metadata": {},
   "outputs": [],
   "source": [
    "y_pred = knn.predict(x_test_final_sc)"
   ]
  },
  {
   "cell_type": "code",
   "execution_count": 44,
   "id": "ca4553cf",
   "metadata": {},
   "outputs": [
    {
     "name": "stdout",
     "output_type": "stream",
     "text": [
      "Средний f1-score на тесте: 0.6400862068965517\n"
     ]
    }
   ],
   "source": [
    "print('Средний f1-score на тесте:', f1_score(y_test, y_pred))"
   ]
  },
  {
   "cell_type": "markdown",
   "id": "10c9f10c",
   "metadata": {},
   "source": [
    "### LOG REG"
   ]
  },
  {
   "cell_type": "code",
   "execution_count": 210,
   "id": "79b81212",
   "metadata": {},
   "outputs": [
    {
     "name": "stdout",
     "output_type": "stream",
     "text": [
      "Средний f1-score на трейне: 0.6643338113075915\n"
     ]
    }
   ],
   "source": [
    "logreg = LogisticRegression(C=41.24, penalty='l2',solver= 'liblinear')\n",
    "logreg_score = cross_val_score(logreg, x_train_scal_categ_fin, y_train, cv=5, scoring = 'f1')\n",
    "print('Средний f1-score на трейне:', np.mean(logreg_score))"
   ]
  },
  {
   "cell_type": "code",
   "execution_count": 211,
   "id": "523d308d",
   "metadata": {},
   "outputs": [
    {
     "name": "stdout",
     "output_type": "stream",
     "text": [
      "Средний f1-score на тесте: 0.40854417254251346\n"
     ]
    }
   ],
   "source": [
    "logreg.fit(x_train_scal_categ_fin, y_train)\n",
    "y_pred = logreg.predict(x_test_final)\n",
    "print('Средний f1-score на тесте:', f1_score(y_test, y_pred))"
   ]
  },
  {
   "cell_type": "markdown",
   "id": "7449fc01",
   "metadata": {},
   "source": [
    "### DECISION TREE"
   ]
  },
  {
   "cell_type": "code",
   "execution_count": 212,
   "id": "e4464a5a",
   "metadata": {},
   "outputs": [
    {
     "name": "stdout",
     "output_type": "stream",
     "text": [
      "Средний f1-score на трейне: 0.6174205042380619\n"
     ]
    }
   ],
   "source": [
    "dectree = DecisionTreeClassifier(max_depth = 3, random_state = 13)\n",
    "dectree_score = cross_val_score(dectree, x_train_scal_categ_fin, y_train, cv=5, scoring = 'f1')\n",
    "print('Средний f1-score на трейне:', np.mean(dectree_score))"
   ]
  },
  {
   "cell_type": "code",
   "execution_count": 213,
   "id": "2b2bd659",
   "metadata": {},
   "outputs": [
    {
     "name": "stdout",
     "output_type": "stream",
     "text": [
      "Средний f1-score на тесте: 0.6101578586135896\n"
     ]
    }
   ],
   "source": [
    "dectree.fit(x_train_scal_categ_fin, y_train)\n",
    "y_pred = dectree.predict(x_test_final)\n",
    "print('Средний f1-score на тесте:', f1_score(y_test, y_pred))"
   ]
  },
  {
   "cell_type": "markdown",
   "id": "1705f9c6",
   "metadata": {},
   "source": [
    "### SVM"
   ]
  },
  {
   "cell_type": "code",
   "execution_count": 214,
   "id": "bca574aa",
   "metadata": {},
   "outputs": [
    {
     "name": "stdout",
     "output_type": "stream",
     "text": [
      "Средний f1-score на трейне: 0.6612798010140801\n"
     ]
    }
   ],
   "source": [
    "svm = LinearSVC(C = 1.0, max_iter = 5000)\n",
    "svm_score = cross_val_score(svm, x_train_scal_categ_fin, y_train, cv=5, scoring = 'f1')\n",
    "print('Средний f1-score на трейне:', np.mean(svm_score))"
   ]
  },
  {
   "cell_type": "code",
   "execution_count": 217,
   "id": "a1442d7f",
   "metadata": {},
   "outputs": [
    {
     "name": "stdout",
     "output_type": "stream",
     "text": [
      "Средний f1-score на тесте: 0.40854417254251346\n"
     ]
    }
   ],
   "source": [
    "svm.fit(x_train_scal_categ_fin, y_train)\n",
    "y_pred_svm = svm.predict(x_test_final)\n",
    "print('Средний f1-score на тесте:', f1_score(y_test, y_pred_svm))"
   ]
  },
  {
   "cell_type": "code",
   "execution_count": 265,
   "id": "c5ea8f35",
   "metadata": {},
   "outputs": [
    {
     "data": {
      "image/png": "[encoded data removed]",
      "text/plain": [
       "<Figure size 720x432 with 1 Axes>"
      ]
     },
     "metadata": {
      "needs_background": "light"
     },
     "output_type": "display_data"
    }
   ],
   "source": [
    "train_means = [0.63, 0.66, 0.62, 0.66]\n",
    "test_means = [0.63, 0.41, 0.61, 0.41]\n",
    "\n",
    "width = 0.4\n",
    "\n",
    "fig, ax = plt.subplots(figsize=(10, 6))\n",
    "rects1 = ax.bar(x - width/2, train_means, width, label='Train')\n",
    "rects2 = ax.bar(x + width/2, test_means, width, label='Test')\n",
    "\n",
    "ax.set_ylabel('F1 - Score')\n",
    "ax.set_title('Scores by method')\n",
    "plt.xticks(range(4), ['KNN','LogREG','Tree','SVM'])\n",
    "ax.legend()\n",
    "\n",
    "ax.bar_label(rects1, padding=3)\n",
    "ax.bar_label(rects2, padding=3)\n",
    "\n",
    "fig.tight_layout()\n",
    "\n",
    "plt.show()"
   ]
  },
  {
   "cell_type": "markdown",
   "id": "a3932398",
   "metadata": {},
   "source": [
    "После кодирования категориальных признаков качество моделей (по крайней мере, на трейне) увеличилось. При проверке на отложенных логистическая регрессия и SVM показали намного худшие метрики, чем на кросс-валидации (возможно из-за переобучения (хотя метрики на трейне невысоки?), а возможно из-за не самого удачного подбора гиперпараметров или стратегии разбиения изначального датасета).\n",
    "Что касается метода ближайших соседей и деревьев решений, метрики на тесте и трейне примерно одинаковы (значит, мы не переобучились), и f1-score хоть и невысок, но все же выше 60%. "
   ]
  }
 ],
 "metadata": {
  "kernelspec": {
   "display_name": "Python 3 (ipykernel)",
   "language": "python",
   "name": "python3"
  },
  "language_info": {
   "codemirror_mode": {
    "name": "ipython",
    "version": 3
   },
   "file_extension": ".py",
   "mimetype": "text/x-python",
   "name": "python",
   "nbconvert_exporter": "python",
   "pygments_lexer": "ipython3",
   "version": "3.9.7"
  }
 },
 "nbformat": 4,
 "nbformat_minor": 5
}
